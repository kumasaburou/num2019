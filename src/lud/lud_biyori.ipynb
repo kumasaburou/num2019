{
 "cells": [
  {
   "cell_type": "code",
   "execution_count": 3,
   "metadata": {},
   "outputs": [
    {
     "name": "stdout",
     "output_type": "stream",
     "text": [
      "CPU times: user 0 ns, sys: 0 ns, total: 0 ns\n",
      "Wall time: 10.5 µs\n",
      "[[ 1.   0.   0. ]\n",
      " [ 2.   1.   0. ]\n",
      " [ 1.  -0.5  1. ]]\n",
      "[[ 1.   2.   3. ]\n",
      " [ 0.  -2.  -3. ]\n",
      " [ 0.   0.  -2.5]]\n",
      "[[1. 2. 3.]\n",
      " [2. 2. 3.]\n",
      " [1. 3. 2.]]\n"
     ]
    },
    {
     "data": {
      "text/plain": [
       "4.999999999999999"
      ]
     },
     "execution_count": 3,
     "metadata": {},
     "output_type": "execute_result"
    }
   ],
   "source": [
    "import numpy as np\n",
    "import time\n",
    "\n",
    "%time\n",
    "def ludSub(m, l, u, index, dimMinus1):\n",
    "    if index >= dimMinus1:\n",
    "        u[dimMinus1, dimMinus1] = m[dimMinus1, dimMinus1]\n",
    "        return l, u\n",
    "    else:\n",
    "        tmp = np.zeros(np.shape(m))\n",
    "        u[index, index:] = m[index, index:]\n",
    "        l[index+1:, index] = m[index+1: ,index]/m[index, index]\n",
    "        tmp[index+1:, index+1:] = np.outer(l[index+1: ,index], u[index, index+1:])\n",
    "#         上記の計算は tmp[index+1:, index+1:] = l[index+1: ,index] * u[index, index+1:] では実現できない\n",
    "        return ludSub(m-tmp, l, u, index+1, dimMinus1)\n",
    "\n",
    "# Tail recursion \n",
    "def lud(m):\n",
    "    if (type(x) == np.ndarray) and (len(np.shape(x)) == 2):\n",
    "        row, col = np.shape(m)\n",
    "        if row == col:\n",
    "            l, u = np.eye(row), np.eye(col)\n",
    "            return ludSub(m, l, u, 0, row -1)\n",
    "\n",
    "x = np.array([[1,2,3],[2,2,3],[1,3,2]])        \n",
    "\n",
    "la, ua = lud(x)\n",
    "print(la)\n",
    "print(ua)\n",
    "print(np.dot(la, ua))\n",
    "np.linalg.det(x)"
   ]
  },
  {
   "cell_type": "code",
   "execution_count": null,
   "metadata": {},
   "outputs": [],
   "source": []
  }
 ],
 "metadata": {
  "kernelspec": {
   "display_name": "venv35",
   "language": "python",
   "name": "venv35"
  },
  "language_info": {
   "codemirror_mode": {
    "name": "ipython",
    "version": 3
   },
   "file_extension": ".py",
   "mimetype": "text/x-python",
   "name": "python",
   "nbconvert_exporter": "python",
   "pygments_lexer": "ipython3",
   "version": "3.5.2"
  }
 },
 "nbformat": 4,
 "nbformat_minor": 2
}

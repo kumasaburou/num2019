{
 "cells": [
  {
   "cell_type": "code",
   "execution_count": 2,
   "metadata": {},
   "outputs": [
    {
     "name": "stdout",
     "output_type": "stream",
     "text": [
      "713 ms ± 422 ms per loop (mean ± std. dev. of 7 runs, 1 loop each)\n"
     ]
    }
   ],
   "source": [
    "import numpy as np\n",
    "import time\n",
    "\n",
    "def lud_sub(m, l, u, index, dim_minus1):\n",
    "    if index >= dim_minus1:\n",
    "        u[dim_minus1, dim_minus1] = m[dim_minus1, dim_minus1]\n",
    "        return l, u\n",
    "    else:\n",
    "        tmp = np.zeros(np.shape(m))\n",
    "        u[index, index:] = m[index, index:]\n",
    "        l[index+1:, index] = m[index+1: ,index]/m[index, index]\n",
    "        tmp[index+1:, index+1:] = np.outer(l[index+1: ,index], u[index, index+1:])\n",
    "#         上記の計算は tmp[index+1:, index+1:] = l[index+1: ,index] * u[index, index+1:] では実現できない\n",
    "        return lud_sub(m-tmp, l, u, index+1, dim_minus1)\n",
    "\n",
    "# Tail recursion \n",
    "def lud(m):\n",
    "    if (type(x) == np.ndarray) and (len(np.shape(x)) == 2):\n",
    "        row, col = np.shape(m)\n",
    "        if row == col:\n",
    "            l, u = np.eye(row), np.eye(col)\n",
    "            index = 0\n",
    "            dim_minus1 = row - 1\n",
    "            return lud_sub(m, l, u, index, dim_minus1)\n",
    "        else:\n",
    "            raise ValueError(\"not square matrix\")\n",
    "    else:\n",
    "        raise ValueError(\"matrix type or shape mismatch\")\n",
    "\n",
    "x = np.array([[1,2,3],[2,2,3],[1,3,2]])        \n",
    "y = np.random.rand(500,500)\n",
    "\n",
    "\n",
    "%timeit lud(y)\n",
    "# print(la)\n",
    "# print(ua)\n",
    "# print(np.dot(la, ua))\n",
    "# np.linalg.det(x)"
   ]
  },
  {
   "cell_type": "code",
   "execution_count": 3,
   "metadata": {},
   "outputs": [
    {
     "data": {
      "text/plain": [
       "True"
      ]
     },
     "execution_count": 3,
     "metadata": {},
     "output_type": "execute_result"
    }
   ],
   "source": [
    "isinstance(x,np.ndarray)"
   ]
  },
  {
   "cell_type": "code",
   "execution_count": null,
   "metadata": {},
   "outputs": [],
   "source": []
  }
 ],
 "metadata": {
  "kernelspec": {
   "display_name": "venv35",
   "language": "python",
   "name": "venv35"
  },
  "language_info": {
   "codemirror_mode": {
    "name": "ipython",
    "version": 3
   },
   "file_extension": ".py",
   "mimetype": "text/x-python",
   "name": "python",
   "nbconvert_exporter": "python",
   "pygments_lexer": "ipython3",
   "version": "3.5.2"
  }
 },
 "nbformat": 4,
 "nbformat_minor": 2
}

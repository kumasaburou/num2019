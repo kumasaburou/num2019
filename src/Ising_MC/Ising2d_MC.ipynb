{
 "cells": [
  {
   "cell_type": "markdown",
   "metadata": {},
   "source": [
    "# 参考\n",
    "* [[Pythonによる科学・技術計算] ２次元イジングスピン系の熱力学量のメトロポリス法によるモンテカルロシミュレーション](https://qiita.com/sci_Haru/items/45ec84e6eb985f5c53d8)\n",
    "    \n",
    "    コード自体は参考にしづらいがモンテカルロ・シミュレーションの書き始めで見てた。\n",
    "    気持ちだけを汲み取る。\n",
    "\n",
    "* [Juliaで学ぶ古典モンテカルロシミュレーション](https://github.com/cometscome/MC)\n",
    "\n",
    "    物性の永井さんの解説。\n",
    "    コードそのものはJuliaで書かれているがIsingモデルのシミュレーションそのものの説明とアルゴリズムが参考になった。\n",
    "    \n",
    "    コードそのものは簡潔の書かれているが話の流れ上函数同士がとっ散らかっていて迷子になった。\n",
    "    \n",
    "* [スライド「統計力学〜Ising Modelを学ぶ〜」（安田宗樹：東北大）](http://www.adv-pip.yz.yamagata-u.ac.jp/~muneki/japanese/lecture/tohoku_univ/2012/Exp-D_StatPhys2012.pdf)\n",
    "    \n",
    "    Ising模型の説明で読んだ。\n",
    "    とてもフランクな雰囲気のスライド。\n",
    "    \n",
    "* [IsingモデルのMonte Carloシミュレーション（柴田・松古）](http://school-crc.kek.jp/SummerSchool06/TEXT/text2.pdf)\n",
    "    \n",
    "    Markov連鎖と熱浴法・メトロポリス法の説明などが参考になった。\n",
    "    \n",
    "* [モンテカルロ法の前線（福島孝治：東京大）](https://www.smapip.is.tohoku.ac.jp/~smapip/2003/tutorial/textbook/koji-hukushima.pdf)\n",
    "    \n",
    "    熱浴法・メトロポリス法の違いについて少し参考にした。"
   ]
  },
  {
   "cell_type": "markdown",
   "metadata": {},
   "source": [
    "# MarkdownとLaTeXとの併用の備忘録（Gitlabで見る時の注意点）\n",
    "\n",
    "1. 基本的には`$ $`あるいは`$$ $$`で数式を入力する。\n",
    "    1行入力ならこれで充分。\n",
    "    \n",
    "1. `_ _`がMarkdownでの強調を意味するので`$$ $$`で挟まずに`\\begiin{align} \\end{align}`のみ使うと下添字のときに衝突する。\n",
    "    衝突の恐れのない時は`$$ $$`を入力しないLaTeXと同じような感覚で使える（はず）。\n",
    "    \n",
    "1. 複数行にまたぐ数式を入力するときは`$$\\begin{align} \\end{align}$$`の環境内で改行をしない。\n",
    "    改行すると数式が崩れる、あるいはエラーを吐く。"
   ]
  },
  {
   "cell_type": "markdown",
   "metadata": {},
   "source": [
    "# 2次元Ising模型とモンテカルロ・シミュレーション"
   ]
  },
  {
   "cell_type": "markdown",
   "metadata": {},
   "source": [
    "## 2次元Ising模型\n",
    "\n",
    "### ハミルトニアン\n",
    "\n",
    "サイト$(i,j)$、$i,j \\in \\mathbb{Z}$、におけるスピンを$\\sigma_{i j} = -1 \\, \\mathrm{or} \\, 1$とおく。\n",
    "サイト数$V$、最近接交換相互作用$J$、磁場$h$に対してハミルトニアンが\n",
    "$$\n",
    "\\mathcal{H} \\left( V, \\sigma_V, J, h \\right)\n",
    "= -J \\sum_{i, j} \\sigma_{i j} \\left(\\sigma_{i+1 \\ j} + \\sigma_{i \\ j+1} \\right) \n",
    "-h \\sum_{i,j} \\sigma_{i j}\n",
    "$$\n",
    "で表わされるような模型を2次元Ising模型という。\n",
    "自発磁化をもつ強磁性体を説明する簡単な模型になっている。\n",
    "ただし$\\sigma_V$はスピン配位そのものを表わす。\n",
    "また式中には陽に表わされていないが周期境界条件を課すものとする。\n",
    "\n",
    "### 分配函数\n",
    "\n",
    "このハミルトニアンに対して分配函数は逆温度$\\beta = 1/T$において\n",
    "$$\n",
    "Z [V, \\beta, J, h] = \\sum_{\\sigma_V} \\exp\\left(-\\beta \\mathcal{H}\\left(V, \\sigma_V, J, h \\right) \\right)\n",
    "$$\n",
    "と表わされる。\n",
    "この分配函数を操作することで系のあらゆる物理量が計算される。\n",
    "\n",
    "### ボルツマン分布\n",
    "\n",
    "$$\n",
    "\\exp\\left(-\\beta \\mathcal{H}\\left(V, \\sigma_V, J, h \\right) \\right)\n",
    "$$\n",
    "をボルツマン因子（ボルツマンの重み、ボルツマンウェイト）という。\n",
    "ボルツマン因子を分配函数で規格化した\n",
    "$$\n",
    "P_B \\left(V, \\sigma_V, J, h \\right)\n",
    "= \\frac{\\exp\\left(-\\beta \\mathcal{H}\\left(V, \\sigma_V, J, h \\right) \\right)}{Z [V, \\beta, J, h]}\n",
    "$$\n",
    "はボルツマン分布を与える。\n",
    "$$\n",
    "0 \\leq P_B \\left(V, \\sigma_V, J, h \\right) \\leq 1\n",
    "$$\n",
    "かつ\n",
    "$$\n",
    "\\sum_{\\sigma_V} P_B \\left(V, \\sigma_V, J, h \\right) = 1\n",
    "$$\n",
    "である。\n",
    "ボルツマン分布における物理量$A\\left(V, \\sigma_V, J, h \\right)$の平均は\n",
    "$$\n",
    "\\left\\langle A \\right\\rangle \\left(V, J, h \\right)\n",
    "= \\sum_{\\sigma_V} A \\left(V, \\sigma_V, J, h \\right) P_B \\left( \\sigma_V, V, J, h \\right)\n",
    "$$\n",
    "と表わされる。\n",
    "\n",
    "### 熱力学量\n",
    "\n",
    "系のヘルツホルツのエネルギーは\n",
    "$$\n",
    "f \\left(V, \\beta, J, h\\right)\n",
    "= -\\frac{1}{V \\beta} \\ln Z [V, \\beta, J, h]\n",
    "$$\n",
    "で、系の磁化は\n",
    "$$\n",
    "m \\left(V, \\beta, J, h\\right)\n",
    "= - \\frac{\\partial f \\left(V, \\beta, J, h\\right)}{\\partial h}\n",
    "= \\frac{1}{V \\beta} \\frac{ \\partial \\ln Z [V, \\beta, J, h]}{\\partial h}\n",
    "= \\frac{1}{V} \\left\\langle \\mathcal{M} \\right\\rangle \\left(V, \\beta, J, h \\right)\n",
    "$$\n",
    "で与えられる。\n",
    "ただし$\\mathcal{M}\\left(V, \\sigma_V \\right) = \\sum_{i,j} \\sigma_{ij}$であり、$V$についての操作はここではしないので見やすさのため基本的に$V$で規格化している。\n",
    "磁化率は\n",
    "$$\n",
    "\\chi \\left(V, \\beta, J, h\\right)\n",
    "= \\frac{\\partial m \\left(V, \\beta, J, h\\right)}{\\partial h}\n",
    "= \\frac{\\beta}{V} \\left( \\left\\langle \\mathcal{M}^2 \\right\\rangle \\left(V, \\beta, J, h \\right) - \\left\\langle \\mathcal{M} \\right\\rangle \\left(V, \\beta, J, h\\right)^2 \\right)\n",
    "$$\n",
    "で得られる。\n",
    "\n",
    "内部エネルギーは\n",
    "$$\n",
    "e \\left( V, \\beta, J, h \\right)\n",
    "= \\frac{\\partial \\left( \\beta f \\left(V, \\beta, J, h\\right) \\right)}{\\partial \\beta}\n",
    "= - \\frac{1}{V} \\frac{\\partial \\ln Z [V, \\beta, J, h]}{\\partial \\beta}\n",
    "= \\frac{1}{V} \\left\\langle \\mathcal{H} \\right\\rangle \\left(V, \\beta, J, h \\right)\n",
    "$$\n",
    "であり、比熱は\n",
    "$$\n",
    "c \\left(V, \\beta, J, h\\right)\n",
    "= \\beta^2 \\frac{\\partial e \\left(V, \\beta, J, h\\right)}{\\partial \\beta}\n",
    "= \\frac{\\beta^2}{V} \\left( \\left\\langle \\mathcal{H}^2 \\right\\rangle \\left(V, \\beta, J, h \\right) - \\left\\langle \\mathcal{H} \\right\\rangle \\left(V, \\beta, J, h\\right)^2 \\right)\n",
    "$$\n",
    "で得られる。\n",
    "\n",
    "### 計算上の問題\n",
    "\n",
    "具体的にサイズが$V=4^2=16$の系を考える。\n",
    "言い換えると一辺にサイトが$4$つある正方格子上にスピンが並んでいる状況を考える。\n",
    "この時ありうるスピン配位の数は各スピンの自由度が2なので$2^V=65536$通りあることになる。\n",
    "分配函数はその全てのスピン配位の和で表わされるので、スピンが$16$個しか並んでいない小さな系を考えるだけで約6.5万項の和の計算をしなければならない。\n",
    "しかも各項に各スピン配位におけるハミルトニアンの計算もしなければならない。\n",
    "このことから系のサイズを大きくすると簡単に項が膨大になって計算が難しくなることが推測される（現実的な系ではアボガドロ数$\\sim 10^{23}$）。\n",
    "分配函数が分かればあらゆる物理量が計算できる一方で分配函数そのものを求めるのは難しい。\n",
    "\n",
    "平均場近似などを用いることでその性質を調べることは可能。\n",
    "\n",
    "### 補：Binderキュムラント\n",
    "\n",
    "相転移点を調べるための量としてBinderのキュムラントという量がある。\n",
    "それは\n",
    "$$\n",
    "1 - \\frac{\\left\\langle \\mathcal{M}^4 \\right\\rangle \\left(V, \\beta, J, h \\right)}{3 \\left\\langle \\mathcal{M}^2 \\right\\rangle \\left(V, \\beta, J, h \\right)^2}\n",
    "$$\n",
    "で表わされる。\n",
    "$\\beta\\to\\infty$で$2/3$に、$\\beta\\to0$で$0$に漸近する。\n",
    "Binderキュムラントは相転移点直上で系の大きさの変化に対して不変になっている。\n",
    "温度を横軸にして系の大きさが違うグラフをプロットして重ねれば、交点のある温度が相転移温度ということになる。\n",
    "\n",
    "ここでの計算は全体に$3/2$を乗じて$T\\to0$で$1$に漸近するように規格化している。"
   ]
  },
  {
   "cell_type": "markdown",
   "metadata": {},
   "source": [
    "## モンテカルロ・シミュレーション\n",
    "\n",
    "分配函数を扱うのは実際問題難しいが、概ね興味の対象は熱力学量であり分配函数そのものではない。\n",
    "熱力学量は統計平均で求まるので、ありうるスピン配位から計算機上で適当にサンプリングして統計平均を取れば分配函数を真面目に解析しなくても（統計的誤差を含むが）熱力学量が求まるはずである。\n",
    "このサンプリングは（擬似）乱数を用いて行なわれる。\n",
    "乱数を用いた計算手法のことをモンテカルロ法、あるいはモンテカルロ・シミュレーションと呼ぶ。\n",
    "\n",
    "ただし単純に乱数を与えることで統計平均を計算しても計算の収束が悪い。\n",
    "収束を早めるために賢いサンプリングをする必要がある。\n",
    "そのサンプリング方法がメトロポリス法、あるいは熱浴法と呼ばれる方法である。\n",
    "\n",
    "### マルコフ連鎖\n",
    "\n",
    "乱数によって初期のスピン配位を生成するが、それは熱力学量を計算する上で尤もらしい配位、つまり熱平衡な配位とは限らない。\n",
    "したがってまずは配位を熱平衡な配位へ更新する必要がある。\n",
    "また統計平均を計算するためにある程度のサンプルの大きさが必要であるため、熱平衡状態の配位から再び熱平衡状態の配位を得るような更新を行なう必要もある。\n",
    "\n",
    "その配位の更新方法として用いられるのがマルコフ連鎖である。\n",
    "マルコフ連鎖は適当な次の状態への遷移する確率は直前の状態にのみに依存する確率過程のことを指す。\n",
    "初期スピン配位を$\\sigma^{(0)}$とし、$n$回更新されたときのスピン配位を$\\sigma^{(n)}$と表わすことにする。\n",
    "以下$n$回更新されたことを時刻$n$と言うことにする。\n",
    "マルコフ連鎖をシンボリックに書けば、スピン配位$\\sigma^{(n-1)} = a$から$\\sigma^{(n)} = b$へ遷移する確率が\n",
    "$$\n",
    "P \\left(\\sigma^{(n)} = b \\mid \\sigma^{(n-1)} =a \\right)\n",
    "$$\n",
    "のように遷移の始点と終点との2状態のみを引数にした形で表わせる。\n",
    "\n",
    "遷移確率は\n",
    "$$\n",
    "\\sum_{\\sigma^{(n)}} P \\left(\\sigma^{(n)} \\mid \\sigma^{(n-1)} =a \\right) = 1\n",
    "$$\n",
    "を満たす。\n",
    "時刻$n-1$で適当なスピン配位$\\sigma^{(n-1)} = a$から次の時刻$n$で遷移しうる全ての配位への遷移確率を全て足せば$1$になる。\n",
    "また遷移確率は非負である。\n",
    "\n",
    "### エルゴード性\n",
    "\n",
    "（エルゴード性はマルコフ連鎖で定常状態・熱平衡状態を考えるうえで重要らしいですが、力不足のため割愛）\n",
    "\n",
    "### 詳細釣り合い\n",
    "\n",
    "時刻$n$のスピン配位が$\\sigma^{(n)} = a$である確率を\n",
    "$$\n",
    "S \\left( \\sigma^{(n)} = a\\right)\n",
    "$$\n",
    "と表わす。\n",
    "$S \\left( \\sigma^{(n)} \\right)$をスピン配位$\\sigma^{(n)}$の確率分布という。\n",
    "確率なので時刻$n$におけるあらゆるスピン配位に関して和を取ると\n",
    "$$\n",
    "\\sum_{\\sigma^{(n)}} S \\left( \\sigma^{(n)}\\right) = 1\n",
    "$$\n",
    "を満たし、各項が非負である。\n",
    "Ising模型は系も時間も離散的なので、$S$は系のサイズの次元を持ったベクトルで$P$はそれらに作用する遷移行列として扱える。\n",
    "式で書けば\n",
    "$$\n",
    "\\begin{align}\n",
    "S \\left( \\sigma^{(n)}\\right) &= P \\left(\\sigma^{(n)} \\mid \\sigma^{(n-1)}\\right) S \\left( \\sigma^{(n-1)}\\right) \\nonumber \\\\ &= P \\left(\\sigma^{(n)} \\mid \\sigma^{(n-1)}\\right) P \\left(\\sigma^{(n-1)} \\mid \\sigma^{(n-2)}\\right) \\cdots P \\left(\\sigma^{(1)} \\mid \\sigma^{(0)}\\right) S \\left( \\sigma^{(0)}\\right) \\nonumber\n",
    "\\end{align}\n",
    "$$\n",
    "である。\n",
    "このとき配位の確率分布と遷移行列とが時刻によらないものとは特に仮定していない。\n",
    "\n",
    "一方で熱平衡状態とは配位の確率分布とその遷移行列とがともに時刻に依存しない状態である。\n",
    "平衡状態は充分な回数遷移行列を作用させることで達成される考え、その時の確率を$S \\left( \\sigma^{(\\mathrm{eq})}\\right)$とすると、熱平衡状態は\n",
    "$$\n",
    "S \\left( \\sigma^{(\\mathrm{eq})}\\right) \n",
    "= P \\left(\\sigma^{(\\mathrm{eq})} \\mid \\sigma^{(\\mathrm{eq})}\\right) S \\left( \\sigma^{(\\mathrm{eq})}\\right)\n",
    "$$\n",
    "を満たすように遷移するはずである。\n",
    "熱平衡状態は遷移行列の固有値$1$の固有状態を扱ってるとも見える。\n",
    "$$\n",
    "S \\left( \\sigma^{(\\mathrm{eq})} = a_i\\right)\n",
    "= S^{(\\mathrm{eq})}_i, \\quad\n",
    "  P \\left(\\sigma^{(\\mathrm{eq})} = a_i \\mid \\sigma^{(\\mathrm{eq})} = a_j\\right)\n",
    "= P^{(\\mathrm{eq})}_{ij} \\qquad\n",
    "\\left(i,j = 1, 2, \\dots, V \\right)\n",
    "$$\n",
    "なる成分の略記を導入しておいて式変形すると\n",
    "$$\n",
    "\\begin{align}\n",
    "S^{(\\mathrm{eq})}_i = \\sum_j P^{(\\mathrm{eq})}_{ij} S^{(\\mathrm{eq})}_j &= P^{(\\mathrm{eq})}_{ii} S^{(\\mathrm{eq})}_i + \\sum_{j \\neq i} P^{(\\mathrm{eq})}_{ij} S^{(\\mathrm{eq})}_j \\nonumber \\\\ &= \\left( P^{(\\mathrm{eq})}_{ii} + \\sum_{j \\neq i} P^{(\\mathrm{eq})}_{ji}\\right) S^{(\\mathrm{eq})}_i + \\sum_{j \\neq i} \\left( P^{(\\mathrm{eq})}_{ij} S^{(\\mathrm{eq})}_j - P^{(\\mathrm{eq})}_{ji} S^{(\\mathrm{eq})}_i \\right) \\nonumber \\\\ &= \\sum_{j} P^{(\\mathrm{eq})}_{ji}S^{(\\mathrm{eq})}_i + \\sum_{j \\neq i} \\left( P^{(\\mathrm{eq})}_{ij} S^{(\\mathrm{eq})}_j - P^{(\\mathrm{eq})}_{ji} S^{(\\mathrm{eq})}_i \\right) \\nonumber \\\\ &= S^{(\\mathrm{eq})}_i + \\sum_{j \\neq i} \\left( P^{(\\mathrm{eq})}_{ij} S^{(\\mathrm{eq})}_j - P^{(\\mathrm{eq})}_{ji} S^{(\\mathrm{eq})}_i \\right) \\nonumber\n",
    "\\end{align}\n",
    "$$\n",
    "となる。\n",
    "ゆえに\n",
    "$$\n",
    "P \\left(\\sigma^{(\\mathrm{eq})} = a_i \\mid \\sigma^{(\\mathrm{eq})} = a_j\\right) S \\left( \\sigma^{(\\mathrm{eq})} = a_j\\right)\n",
    "= P \\left(\\sigma^{(\\mathrm{eq})} = a_j \\mid \\sigma^{(\\mathrm{eq})} = a_i\\right) S \\left( \\sigma^{(\\mathrm{eq})} = a_i\\right)\n",
    "\\qquad \\left( i \\neq j \\right)\n",
    "$$\n",
    "となる。\n",
    "このことを詳細釣り合い条件と呼ぶ。\n",
    "\n",
    "詳細釣り合い条件を満たすようにスピン配位を遷移させると熱平衡状態のサンプルをうまく取得できる。\n",
    "\n",
    "マルコフ連鎖において熱平衡であれば詳細釣り合い条件を満たすこと（十分条件）しか述べてないので必要性についてはここでは述べてない。\n",
    "\n",
    "具体的にボルツマン分布を使って説明すると（記号的に紛らわしいが）$S$に対応するのが$P_B$なので詳細釣り合い条件は\n",
    "$$\n",
    "\\begin{align}\n",
    "\\frac{P \\left(\\sigma^{(\\mathrm{eq})} = a_j \\mid \\sigma^{(\\mathrm{eq})} = a_i \\right)}{P \\left(\\sigma^{(\\mathrm{eq})} = a_i \\mid \\sigma^{(\\mathrm{eq})} = a_j \\right)} &= \\frac{S \\left( \\sigma^{(\\mathrm{eq})} = a_j \\right)}{S \\left( \\sigma^{(\\mathrm{eq})} = a_i \\right)} \\nonumber \\\\ &= \\frac{P_B \\left(V, \\sigma_V = a_j, J, h \\right)}{P_B \\left(V, \\sigma_V = a_i, J, h \\right)} \\nonumber \\\\ &= \\exp \\left[ -\\beta \\left( \\mathcal{H}\\left(V, \\sigma_V = a_j, J, h \\right) - \\mathcal{H}\\left(V, \\sigma_V = a_i, J, h \\right)\\right) \\right] \\nonumber\n",
    "\\end{align}\n",
    "$$\n",
    "と書ける。\n",
    "この条件さえ満たせば確率としての非負$1$以下の2条件を除けば任意性がある。\n",
    "とくに工夫をしない方法としてはここで述べているようにボルツマン分布の確率を遷移確率として用いればよい。\n",
    "\n",
    "一方で例えば\n",
    "$$\n",
    "\\Delta_{ji} \\left(V, J, h \\right)\n",
    "= \\mathcal{H}\\left(V, \\sigma_V = a_j, J, h \\right) - \\mathcal{H}\\left(V, \\sigma_V = a_i, J, h \\right)\n",
    "= -\\Delta_{ij} \\left(V, J, h \\right)\n",
    "$$\n",
    "と略記して\n",
    "$$\n",
    "P \\left(\\sigma^{(\\mathrm{eq})} = a_j \\mid \\sigma^{(\\mathrm{eq})} = a_i \\right)\n",
    "= \\frac{e^{-\\beta \\Delta_{ji} \\left(V, J, h \\right)/2}}{e^{-\\beta \\Delta_{ji} \\left(V, J, h \\right)/2} + e^{\\beta \\Delta_{ji} \\left(V, J, h \\right)/2}}\n",
    "$$\n",
    "とおいても条件を満たす。\n",
    "ボルツマン分布の確率をハミルトニアンの差分に注目して修正した遷移確率になっている。\n",
    "\n",
    "また上記の遷移確率の決め方以外に\n",
    "$$\n",
    "P \\left(\\sigma^{(\\mathrm{eq})} = a_j \\mid \\sigma^{(\\mathrm{eq})} = a_i \\right)\n",
    "= \\mathrm{min} \\left\\{ 1, \\ \\exp \\left[ -\\beta \\Delta_{ji} \\left(V, J, h \\right) \\right] \\right\\}\n",
    "$$\n",
    "と決めても条件を満たす。\n",
    "配位が$a_i$から$a_j$へ更新されたときにハミルトニアンの値が小さくなっていれば指数函数の値が$1$より大きくなるので遷移確率は$1$となり（規格化）、ハミルトニアンの値が大きくなっていれば対応する値が遷移確率となる。\n",
    "ハミルトニアンの値が小さくなる方向へは必ず更新されるが、ハミルトニアンの値が大きくなる方向へも一定の確率で更新される。\n",
    "ただしハミルトニアンの値が大幅に大きくなるような更新は抑制される。\n",
    "\n",
    "以下に遷移確率のグラフを示す。"
   ]
  },
  {
   "cell_type": "code",
   "execution_count": 38,
   "metadata": {},
   "outputs": [
    {
     "data": {
      "image/png": "[encoded data removed]",
      "text/plain": [
       "<Figure size 432x288 with 1 Axes>"
      ]
     },
     "metadata": {
      "needs_background": "light"
     },
     "output_type": "display_data"
    }
   ],
   "source": [
    "import numpy as np\n",
    "import matplotlib.pyplot as plt\n",
    "\n",
    "def comparing_trans_prob (temp):\n",
    "    fig, ax = plt.subplots()\n",
    "    x = np.linspace(-10, 10, 100)\n",
    "    ax.plot(x, np.exp(-x/2/temp)/(np.exp(-x/2/temp) +np.exp(x/2/temp)))\n",
    "    ax.plot(x, [min([1, np.exp(-i/temp)]) for i in x])\n",
    "    ax.grid(True)\n",
    "    ax.set_ylabel(\"Transition prob.\")\n",
    "    ax.set_xlabel(\"Difference of energy\")\n",
    "    plt.xlim(-10, 10)\n",
    "    plt.show()\n",
    "    \n",
    "comparing_trans_prob(1.5)"
   ]
  },
  {
   "cell_type": "markdown",
   "metadata": {},
   "source": [
    "### メトロポリス法・熱浴法\n",
    "\n",
    "#### メトロポリス法\n",
    "\n",
    "シミュレーションは概ね以下の手順で行われる。\n",
    "\n",
    "1. 高温側からシミュレートする場合はランダムな初期配位$\\sigma$を生成する。\n",
    "\n",
    "    低温側からの場合は$1$のみまたは$-1$のみで埋めた初期配位$\\sigma$を生成する。\n",
    "\n",
    "1. 以下の手順を定常状態（熱平衡状態）になるまで繰り返す。\n",
    "\n",
    "    1. 候補となる適当な配位$\\tilde{\\sigma}$を生成する。\n",
    "\n",
    "    1. 現在の配位$\\sigma$と候補の配位$\\tilde{\\sigma}$との遷移確率$P$を計算する。\n",
    "\n",
    "    1. 遷移確率$P$に基づいて候補の配位受け入れるか捨てるかを決める。\n",
    "\n",
    "        受け入れることが決まれば現在の配位$\\sigma$を候補の配位$\\tilde{\\sigma}$に更新する。\n",
    "\n",
    "1. 定常状態において以下の手順を目的のサンプルの大きさになるまで繰り返す。\n",
    "\n",
    "    1. 現在の配位から相関が無視できる程度の回数、遷移確率$P$に基づいて配位を更新する。\n",
    "    \n",
    "    1. 得られた配位に基づいて目的の物理量を計算し、その結果を記録する。\n",
    "    \n",
    "1. 統計平均により熱力学量を計算する。\n",
    "\n",
    "1. 以上の手順を各パラメータ値において実行する。\n",
    "\n",
    "遷移確率は上で3番目に述べた\n",
    "$$\n",
    "P \\left(\\sigma^{(\\mathrm{eq})} = a_j \\mid \\sigma^{(\\mathrm{eq})} = a_i \\right)\n",
    "= \\mathrm{min} \\left\\{ 1, \\ \\exp \\left[ -\\beta \\Delta_{ji} \\left(V, J, h \\right) \\right] \\right\\}\n",
    "$$\n",
    "を採用する。\n",
    "\n",
    "模型の詳細によらなず、系全体のハミルトニアンさえ計算できればシミュレーションできるので汎用性がある。\n",
    "自由度に依らず（適当な方法で候補となる配位を生成した後に）現在の配位と候補となる配位との比較によって遷移確率が定まる。\n",
    "\n",
    "愚直に配位$\\sigma$を更新するたびに配位全体でハミルトニアンを計算すると計算コストが簡単に高くなる。\n",
    "ハミルトニアンの値の差分に依存するので関係するところのみを計算することなどでコストを抑えられる。\n",
    "\n",
    "またメトロポリス法だからこの配位の更新法、というものは特に無いようである。\n",
    "\n",
    "Ising模型を扱う際は1点ずつフリップさせて配位の更新を行ない、遷移確率も自由度が$2$であることと簡単に局所的な相互作用の部分だけで書けてしまうので熱浴法との違いが分かりづらい。\n",
    "\n",
    "\n",
    "#### 熱浴法\n",
    "\n",
    "メトロポリス法と比べると模型の詳細に依った方法である。\n",
    "熱浴法はIsing模型のように局所的な相互作用で表わされ、それに基づいて分解できるときなどに使える。\n",
    "注目するサイトを決め、その周りのサイトを熱浴と見なし、ハミルトニアンの中で局所的な相互作用に関わる項のみを考慮して遷移確率を与える。\n",
    "\n",
    "現在の配位に関係なく、適当に選んだサイトの自由度（ここではスピンの$\\pm1$）の数と相互作用の形に依存する。\n",
    "Ising模型の遷移確率は\n",
    "$$\n",
    "P_{\\mathrm{HB}}\\left( \\sigma_{ij} = \\pm 1\\right)\n",
    "= \\frac{\\exp\\left[\\mp \\beta \\sum_{k=\\pm1} \\left(\\sigma_{i+k \\ j} + \\sigma_{i \\ j+k} \\right)\\right]}{ \\exp\\left[ -\\beta \\sum_{k=\\pm1} \\left(\\sigma_{i+k \\ j} + \\sigma_{i \\ j+k} \\right)\\right] + \\exp\\left[ \\beta \\sum_{k=\\pm1} \\left(\\sigma_{i+k \\ j} + \\sigma_{i \\ j+k} \\right)\\right]}\n",
    "$$\n",
    "で表わされる。\n",
    "$0$以上$1$未満の乱数を発生させ$P_{\\mathrm{HB}}\\left( \\sigma_{ij} = -1\\right)$未満であれば$\\sigma_{ij}=-1$に、それ以外であれば$\\sigma_{ij}=1$にする。\n",
    "この操作を繰り返すことで系全体を更新する。\n",
    "\n",
    "##### 補足\n",
    "\n",
    "Ising模型は自由度が$2$で離散的なのでメトロポリス法との違いが不明瞭になってるように個人的に感じたので少し一般的な模型にも触れる。\n",
    "\n",
    "$N$次元格子空間上の点$x$に自由度$\\phi_x$があり、その値は離散的で小さい方から順に$\\alpha_1, \\alpha_2, \\dots, \\alpha_d$とする。\n",
    "点$x$での局所的な相互作用を$I_x$と表わすことにすれば熱浴法で用いる遷移確率は\n",
    "$$\n",
    "P_{HB}\\left(\\phi_x = \\alpha_i\\right)\n",
    "= \\frac{\\exp\\left[ - \\beta \\alpha_i I_x\\right]}{\\sum_{k=1}^d \\exp\\left[ - \\beta \\alpha_k I_x\\right]}\n",
    "\\qquad \\left(i = 1, 2, \\dots, d \\right)\n",
    "$$\n",
    "で与えられる。\n",
    "ただし追加で$P_{HB}\\left(\\phi_x = \\alpha_0\\right)=0$とする。\n",
    "$0$以上$1$未満の乱数$r$を発生させ、その値が\n",
    "$$\n",
    "\\sum_{i=0}^{k-1} P_{HB}\\left(\\phi_x = \\alpha_i\\right)\n",
    "\\leq r <\n",
    "\\sum_{i=0}^k P_{HB}\\left(\\phi_x = \\alpha_i\\right)\n",
    "$$\n",
    "であれば$\\phi_x = \\alpha_k$にする。\n",
    "この操作を繰り返し系全体を更新するのはIsing模型と同じである。\n",
    "\n",
    "自由度の数が$d$なので分母の項数が$d$個であり、熱浴法は自由度の変化の影響を陽に受ける。\n",
    "この点メトロポリス法は配位更新前後での比較を行なうので自由度の大きさが変わっても同じように扱うことが出来る。\n",
    "\n",
    "\n",
    "### 統計誤差\n",
    "\n",
    "（能力を超えているので割愛）\n"
   ]
  },
  {
   "cell_type": "code",
   "execution_count": 90,
   "metadata": {},
   "outputs": [],
   "source": [
    "import numpy as np\n",
    "import matplotlib.pyplot as plt\n",
    "import seaborn as sns\n",
    "\n",
    "def initial_config(size_lat):\n",
    "    \"初期スピン配位の生成\"\n",
    "    return 2*(np.random.randint(0, 2, size=(size_lat, size_lat))-1/2)\n",
    "\n",
    "def hamiltonian(arr_spin, coupling, ex_field):\n",
    "    \"Isingモデルのハミルトニアン（交換相互作用と外場）\"\n",
    "    n0, n1 = np.shape(arr_spin)\n",
    "    energy = 0.0\n",
    "    for i in range(-1,n0-1):\n",
    "        for j in range(-1,n1-1):\n",
    "            energy += -coupling*(arr_spin[i][j]*arr_spin[i][j+1] + arr_spin[i][j]*arr_spin[i+1][j])\n",
    "    energy += -ex_field*np.sum(arr_spin)\n",
    "    return energy\n",
    "\n",
    "def update_config(arr_spin, n0, n1, energy, temp, coupling, ex_field):\n",
    "    \"\"\"\n",
    "    メトロポリス法にしたがってスピン配位を更新してエネルギを出力するサブルーチン\n",
    "    副作用：スピン配位の更新\n",
    "    \"\"\"\n",
    "    for i in range(0,n0): # np.random.permutation(np.arange(0,n0))でランダムにできるが遅くなる\n",
    "        for j in range(0,n1):\n",
    "            diff_energy = diff_hamiltonian(arr_spin, n0, n1, i, j, coupling, ex_field)\n",
    "            # diff_energy<=0であれば指数函数の値は1以上なので必ず採択\n",
    "            # diff_energy>0であれば乱数の値によって採択されるかされないかが決まる\n",
    "            # 正のdiff_energyが小さいほど採択率が高い\n",
    "#             # 短いけどちょっと時間がかかる\n",
    "#             if np.random.rand() <= np.exp(-diff_energy/temp):\n",
    "#                 spin_flip(arr_spin, i, j)\n",
    "#                 energy += diff_energy\n",
    "            # 上のifを分解したif-ifel\n",
    "            if diff_energy <= 0:\n",
    "                energy += diff_energy\n",
    "                spin_flip(arr_spin, i, j)\n",
    "            elif np.random.rand() < np.exp(-diff_energy/temp):\n",
    "                energy += diff_energy\n",
    "                spin_flip(arr_spin, i, j)\n",
    "    return energy\n",
    "\n",
    "\n",
    "def diff_hamiltonian(arr_spin, n0, n1, i, j, coupling, ex_field):\n",
    "    \"指定のスピンをフリップしたときに生じるハミルトニアンの差分をスピン配位を変更せずに出力\"\n",
    "    return 2*(coupling*(arr_spin[i][j]*arr_spin[i-1][j] + arr_spin[i][j]*arr_spin[-n0+i+1][j] \n",
    "                        + arr_spin[i][j]*arr_spin[i][j-1] + arr_spin[i][j]*arr_spin[i][-n1+j+1])\n",
    "              + ex_field*arr_spin[i][j])\n",
    "\n",
    "def spin_flip(arr_spin, i, j):\n",
    "    \"指定したスピンをフリップするサブルーチン\"\n",
    "    arr_spin[i][j] = -arr_spin[i][j]\n",
    "\n",
    "def magnetization_plot(size_lat, temp_min, temp_max, coupling, ex_field):\n",
    "    \"\"\"\n",
    "    温度に対する1サイト当たりの磁化の計算とその温度-磁化グラフのプロット\n",
    "    T_c = 2J/log(sqrt(2)+1) ~ 2.27J\n",
    "    \"\"\"\n",
    "    num_update = 1000 # 最大更新回数\n",
    "    num_update_eq = 200 # 最大更新回数のうち熱平衡へ移すための更新回数\n",
    "    mag_lst =[] # 各温度における1サイトあたりの磁化のリスト\n",
    "    mag_sample = [] # 各温度における1サイトあたりの磁化のサンプルのリスト\n",
    "    temp_step = 100 # プロットする温度の分割数\n",
    "    temp_lst = np.flip(np.linspace(temp_min, temp_max, temp_step)) # プロットする温度のリスト\n",
    "    \n",
    "    arr_spin = initial_config(size_lat) # 初期スピン配位生成\n",
    "    n0, n1 = np.shape(arr_spin)\n",
    "    energy = hamiltonian(arr_spin, coupling, ex_field) # 初期スピン配位におけるエネルギー\n",
    "\n",
    "    for temp_tmp in temp_lst:\n",
    "        mag_sample = []\n",
    "        # 熱平衡までの更新\n",
    "        for i in range(0, num_update_eq):\n",
    "            energy=update_config(arr_spin, n0, n1, energy, temp_tmp, coupling, ex_field)\n",
    "        # 熱平衡状態での平均磁化のサンプル取得\n",
    "        for i in range(0, num_update - num_update_eq):\n",
    "            energy=update_config(arr_spin, n0, n1, energy, temp_tmp, coupling, ex_field)\n",
    "            mag_sample.append(np.sum(arr_spin)/len(arr_spin)**2)\n",
    "\n",
    "        mag_lst.append(np.mean(mag_sample))\n",
    "    \n",
    "    # プロット\n",
    "    plt.plot(temp_lst, mag_lst)\n",
    "    plt.grid(True)\n",
    "    plt.ylabel(\"magnetization per cite\")\n",
    "    plt.xlabel(\"T\")\n",
    "    plt.xlim(round(temp_min,1), temp_max)\n",
    "    plt.show()\n",
    "    \n",
    "def specificheat_plot(size_lat, temp_min, temp_max, coupling, ex_field):\n",
    "    \"\"\"\n",
    "    比熱の計算とその温度-比熱グラフのプロット\n",
    "    T_c = 2J/log(sqrt(2)+1) ~ 2.27J\n",
    "    \"\"\"\n",
    "    num_update = 2000 # 最大更新回数\n",
    "    num_update_eq = 400 # 最大更新回数のうち熱平衡へ移すための更新回数\n",
    "    specific_heat_lst =[] \n",
    "    energy_sample = [] \n",
    "    energy_squared_sample = []\n",
    "    temp_step = 50 # プロットする温度の分割数\n",
    "    temp_lst = np.flip(np.linspace(temp_min, temp_max, temp_step)) # プロットする温度のリスト（降順）\n",
    "    \n",
    "    arr_spin = initial_config(size_lat) # 初期スピン配位生成\n",
    "    n0, n1 = np.shape(arr_spin)\n",
    "    energy = hamiltonian(arr_spin, coupling, ex_field) # 初期スピン配位におけるエネルギー\n",
    "\n",
    "    for temp_tmp in temp_lst:\n",
    "        energy_sample = []\n",
    "        energy_squared_sample = []\n",
    "        # 熱平衡までの更新\n",
    "        for i in range(0, num_update_eq):\n",
    "            energy = update_config(arr_spin, n0, n1, energy, temp_tmp, coupling, ex_field)\n",
    "        # 熱平衡状態でのエネルギーのサンプル取得\n",
    "        for i in range(0, num_update - num_update_eq):\n",
    "            energy = update_config(arr_spin, n0, n1, energy, temp_tmp, coupling, ex_field)\n",
    "            if i%2 == 0:\n",
    "                energy_sample.append(energy/len(arr_spin)**2)\n",
    "                energy_squared_sample.append(energy**2/len(arr_spin)**4)\n",
    "\n",
    "        specific_heat_lst.append((np.mean(energy_squared_sample)-np.mean(energy_sample)**2)/temp_tmp**2)\n",
    "    \n",
    "    # プロット\n",
    "    plt.plot(temp_lst, specific_heat_lst)\n",
    "    plt.grid(True)\n",
    "    plt.ylabel(\"specific heat\")\n",
    "    plt.xlabel(\"T\")\n",
    "    plt.xlim(round(temp_min,1), temp_max)\n",
    "    plt.show()\n",
    "    \n",
    "def cumulantBinder_plot(size_lat_lst, coupling, ex_field):\n",
    "    \"\"\"\n",
    "    温度-Binderキュムラントのプロット\n",
    "    T_c = 2J/log(sqrt(2)+1) ~ 2.27J\n",
    "    \"\"\"\n",
    "    temp_c = 2*coupling/np.log(np.sqrt(2)+1)\n",
    "    temp_min = 0.5\n",
    "    temp_max = 1.5\n",
    "    num_update = 6000 # 最大更新回数\n",
    "    num_update_eq = 2000 # 最大更新回数のうち熱平衡へ移すための更新回数\n",
    "    cumulant_lst =[] \n",
    "    mag_squared_sample = []\n",
    "    mag_fourth_sample = []\n",
    "    temp_step = 40 # プロットする温度の分割数\n",
    "    temp_lst = np.flip(np.linspace(temp_min, temp_max, temp_step)) # プロットする温度のリスト\n",
    "    \n",
    "    fig, ax = plt.subplots()    \n",
    "\n",
    "    for size_lat in size_lat_lst:\n",
    "        cumulant_lst = []\n",
    "        arr_spin = initial_config(size_lat) # 初期スピン配位生成\n",
    "        n0, n1 = np.shape(arr_spin)\n",
    "        energy = hamiltonian(arr_spin, coupling, ex_field) # 初期スピン配位におけるエネルギー\n",
    "\n",
    "        for temp_tmp in temp_lst:\n",
    "            mag_squared_sample = []\n",
    "            mag_fourth_sample = []\n",
    "            # 熱平衡までの更新\n",
    "            for i in range(0, num_update_eq):\n",
    "                energy = update_config(arr_spin, n0, n1, energy, temp_c*temp_tmp, coupling, ex_field)\n",
    "            # 熱平衡状態での平均磁化のサンプル取得\n",
    "            for i in range(0, num_update - num_update_eq):\n",
    "                energy = update_config(arr_spin, n0, n1, energy, temp_c*temp_tmp, coupling, ex_field)\n",
    "                mag_squared_sample.append(np.sum(arr_spin)**2/len(arr_spin)**4)\n",
    "                mag_fourth_sample.append(np.sum(arr_spin)**4/len(arr_spin)**8)\n",
    "\n",
    "            cumulant_lst.append((3-np.mean(mag_fourth_sample)/np.mean(mag_squared_sample)**2)/2.0)\n",
    "    \n",
    "        ax.plot(temp_lst, cumulant_lst)\n",
    "    \n",
    "    ax.grid(True)\n",
    "    ax.set_ylabel(\"Binder cumulant\")\n",
    "    ax.set_xlabel(\"T/T_c\")\n",
    "    plt.xlim(temp_min, temp_max)\n",
    "    plt.show()\n",
    "    print(\"T_c = \"+ str(temp_c))"
   ]
  },
  {
   "cell_type": "code",
   "execution_count": 3,
   "metadata": {},
   "outputs": [
    {
     "data": {
      "text/plain": [
       "array([[-1., -1.,  1., ..., -1.,  1., -1.],\n",
       "       [-1.,  1., -1., ..., -1., -1.,  1.],\n",
       "       [-1., -1.,  1., ..., -1.,  1.,  1.],\n",
       "       ...,\n",
       "       [-1., -1.,  1., ...,  1.,  1.,  1.],\n",
       "       [-1.,  1.,  1., ..., -1., -1., -1.],\n",
       "       [ 1.,  1.,  1., ..., -1., -1.,  1.]])"
      ]
     },
     "execution_count": 3,
     "metadata": {},
     "output_type": "execute_result"
    }
   ],
   "source": [
    "[[j * (-1)**np.random.randint(0,2) for j in i]  for i in np.ones((10,10))]\n",
    "(np.random.randint(0,2,size=(100,100))-1/2)*2"
   ]
  },
  {
   "cell_type": "code",
   "execution_count": 72,
   "metadata": {},
   "outputs": [
    {
     "name": "stdout",
     "output_type": "stream",
     "text": [
      "-24.0\n",
      "-0.0018\n"
     ]
    },
    {
     "data": {
      "text/plain": [
       "<matplotlib.axes._subplots.AxesSubplot at 0x7fc224e89588>"
      ]
     },
     "execution_count": 72,
     "metadata": {},
     "output_type": "execute_result"
    },
    {
     "data": {
      "image/png": "[encoded data removed]",
      "text/plain": [
       "<Figure size 432x288 with 1 Axes>"
      ]
     },
     "metadata": {},
     "output_type": "display_data"
    }
   ],
   "source": [
    "a=initial_config(100)\n",
    "a0, a1 = np.shape(a)\n",
    "e=hamiltonian(a, 1, 0.0)\n",
    "print(e)\n",
    "print(np.sum(a)/len(a)**2)\n",
    "\n",
    "plt.figure()\n",
    "sns.heatmap(a, cbar=False, square=True, xticklabels=False, yticklabels=False)"
   ]
  },
  {
   "cell_type": "code",
   "execution_count": 74,
   "metadata": {},
   "outputs": [
    {
     "name": "stdout",
     "output_type": "stream",
     "text": [
      "mag: -0.253, energy: -1.382\n",
      "mag: -0.3556, energy: -1.4128\n",
      "mag: -0.3888, energy: -1.4156\n",
      "mag: -0.3238, energy: -1.3588\n",
      "mag: -0.3458, energy: -1.3768\n",
      "mag: -0.3234, energy: -1.4084\n",
      "mag: -0.333, energy: -1.3988\n",
      "mag: -0.3292, energy: -1.3608\n",
      "mag: -0.3456, energy: -1.3864\n",
      "mag: -0.3224, energy: -1.3728\n",
      "CPU times: user 13.2 s, sys: 12 ms, total: 13.3 s\n",
      "Wall time: 13.2 s\n"
     ]
    },
    {
     "data": {
      "image/png": "[encoded data removed]",
      "text/plain": [
       "<Figure size 432x288 with 1 Axes>"
      ]
     },
     "metadata": {},
     "output_type": "display_data"
    }
   ],
   "source": [
    "%%time\n",
    "t_c = 2.0/np.log(np.sqrt(2.0)+1)\n",
    "for i in range(0,100):\n",
    "    e=update_config(a, a0, a1, e, t_c, 1.0, 0.0)\n",
    "    if i%10==0 :\n",
    "        print(\"mag: \" + str(np.sum(a)/len(a)**2) + \", energy: \" + str(e/len(a)**2))\n",
    "plt.figure()\n",
    "sns.heatmap(a, cbar=False, vmax=1, vmin=-1, square=True, xticklabels=False, yticklabels=False)"
   ]
  },
  {
   "cell_type": "code",
   "execution_count": 87,
   "metadata": {},
   "outputs": [
    {
     "data": {
      "image/png": "[encoded data removed]",
      "text/plain": [
       "<Figure size 432x288 with 1 Axes>"
      ]
     },
     "metadata": {
      "needs_background": "light"
     },
     "output_type": "display_data"
    },
    {
     "name": "stdout",
     "output_type": "stream",
     "text": [
      "CPU times: user 4h 18min 1s, sys: 1.27 s, total: 4h 18min 2s\n",
      "Wall time: 4h 18min 4s\n"
     ]
    }
   ],
   "source": [
    "%%time\n",
    "magnetization_plot(100, 1.5, 3.0, 1.0, 0.0)"
   ]
  },
  {
   "cell_type": "code",
   "execution_count": 3,
   "metadata": {},
   "outputs": [
    {
     "data": {
      "image/png": "[encoded data removed]",
      "text/plain": [
       "<Figure size 432x288 with 1 Axes>"
      ]
     },
     "metadata": {
      "needs_background": "light"
     },
     "output_type": "display_data"
    },
    {
     "name": "stdout",
     "output_type": "stream",
     "text": [
      "CPU times: user 5h 38min 46s, sys: 1.47 s, total: 5h 38min 48s\n",
      "Wall time: 5h 38min 50s\n"
     ]
    }
   ],
   "source": [
    "%%time\n",
    "magnetization_plot(128, 0.01, 4.0, 1.0, 0.0)"
   ]
  },
  {
   "cell_type": "code",
   "execution_count": 77,
   "metadata": {},
   "outputs": [
    {
     "data": {
      "image/png": "[encoded data removed]",
      "text/plain": [
       "<Figure size 432x288 with 1 Axes>"
      ]
     },
     "metadata": {
      "needs_background": "light"
     },
     "output_type": "display_data"
    },
    {
     "name": "stdout",
     "output_type": "stream",
     "text": [
      "CPU times: user 24min 10s, sys: 452 ms, total: 24min 10s\n",
      "Wall time: 24min 10s\n"
     ]
    }
   ],
   "source": [
    "%%time\n",
    "specificheat_plot(32, 0.01, 4.0, 1, 0)"
   ]
  },
  {
   "cell_type": "code",
   "execution_count": 91,
   "metadata": {},
   "outputs": [
    {
     "data": {
      "image/png": "[encoded data removed]",
      "text/plain": [
       "<Figure size 432x288 with 1 Axes>"
      ]
     },
     "metadata": {
      "needs_background": "light"
     },
     "output_type": "display_data"
    },
    {
     "name": "stdout",
     "output_type": "stream",
     "text": [
      "T_c = 2.269185314213022\n",
      "CPU times: user 18min 32s, sys: 320 ms, total: 18min 33s\n",
      "Wall time: 18min 33s\n"
     ]
    }
   ],
   "source": [
    "%%time\n",
    "cumulantBinder_plot([4, 8, 16], 1, 0)"
   ]
  },
  {
   "cell_type": "code",
   "execution_count": 92,
   "metadata": {},
   "outputs": [
    {
     "data": {
      "image/png": "[encoded data removed]",
      "text/plain": [
       "<Figure size 432x288 with 1 Axes>"
      ]
     },
     "metadata": {
      "needs_background": "light"
     },
     "output_type": "display_data"
    },
    {
     "name": "stdout",
     "output_type": "stream",
     "text": [
      "T_c = 2.269185314213022\n",
      "CPU times: user 1h 15min 47s, sys: 712 ms, total: 1h 15min 48s\n",
      "Wall time: 1h 15min 49s\n"
     ]
    }
   ],
   "source": [
    "%%time\n",
    "cumulantBinder_plot([4, 8, 16, 32], 1, 0)"
   ]
  },
  {
   "cell_type": "code",
   "execution_count": null,
   "metadata": {},
   "outputs": [],
   "source": []
  }
 ],
 "metadata": {
  "kernelspec": {
   "display_name": "venv35",
   "language": "python",
   "name": "venv35"
  },
  "language_info": {
   "codemirror_mode": {
    "name": "ipython",
    "version": 3
   },
   "file_extension": ".py",
   "mimetype": "text/x-python",
   "name": "python",
   "nbconvert_exporter": "python",
   "pygments_lexer": "ipython3",
   "version": "3.5.2"
  }
 },
 "nbformat": 4,
 "nbformat_minor": 2
}

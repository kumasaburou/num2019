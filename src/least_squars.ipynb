{
 "cells": [
  {
   "cell_type": "markdown",
   "metadata": {},
   "source": [
    "## 最小二乗法（１次元）\n",
    "$$\n",
    "y=ax+b\\\\\n",
    "\\,\\\\\n",
    "F \\equiv \\sum_{i=1}^n(y_i - ax_i -b)^2\\\\\n",
    "=\\sum_{i=1}^n(y_i^2 -2ax_iy_i -2by_i +a^2x_i^2 +2abx_i +b^2)\\\\\n",
    "$$\n",
    "$F$が最小になるようにパラメータ$a,b$を選ぶ\n",
    "$$\n",
    "\\frac{\\partial F}{\\partial a}=0\\\\\n",
    "\\frac{\\partial F}{\\partial b}=0\\\\\n",
    "\\,\\\\\n",
    "\\frac{\\partial F}{\\partial a}=2a\\sum_i x_i^2 -2a\\sum_i x_iy_i +2b\\sum_ix_i = 0\\\\\n",
    "\\frac{\\partial F}{\\partial b}=2a\\sum_ix_i -2\\sum_i y_i +2nb = 0\\\\\n",
    "$$\n",
    "これを解くと\n",
    "$$\n",
    "\\Rightarrow a = \\frac{\\sum_ix_i\\sum_iy_i -n\\sum_ix_iy_i}{(\\sum_ix_i)^2 -n\\sum_ix_i^2}\\\\\n",
    "b = \\frac{1}{n}\\sum_i(y_i - ax_i)\\\\\n",
    "$$\n",
    "\n"
   ]
  },
  {
   "cell_type": "code",
   "execution_count": 3,
   "metadata": {},
   "outputs": [
    {
     "name": "stdout",
     "output_type": "stream",
     "text": [
      "a = 0.9939393939393939\n",
      "b = 0.9333333333333336\n"
     ]
    },
    {
     "data": {
      "image/png": "[encoded data removed]",
      "text/plain": [
       "<Figure size 432x288 with 1 Axes>"
      ]
     },
     "metadata": {},
     "output_type": "display_data"
    }
   ],
   "source": [
    "#一次元\n",
    "import numpy as np\n",
    "import matplotlib.pyplot as plt\n",
    "\n",
    "x = np.array([1,2,3,4,5,6,7,8,9,10])\n",
    "y = np.array([1,3,3,6,4,10,9,9,11,8])\n",
    "\n",
    "def reg1dim(x,y):\n",
    "    n = len(x)\n",
    "    a = ((np.dot(x,y) - y.sum()*x.sum()/n)/((x**2).sum() - x.sum()**2/n))\n",
    "    b = (y.sum() - a*x.sum())/n\n",
    "    return a, b\n",
    "\n",
    "a,b = reg1dim(x,y)\n",
    "\n",
    "print(\"a =\",a)\n",
    "print(\"b =\",b)\n",
    "plt.scatter(x,y,color='k')\n",
    "plt.plot(x,a*x +b)\n",
    "plt.show()"
   ]
  },
  {
   "cell_type": "markdown",
   "metadata": {},
   "source": [
    "## 2次元の場合\n",
    "1次元と同じように$F$を最小にするようなパラメータを求める\n",
    "$$\n",
    "F \\equiv \\sum_{i=1}^n(y_i -ax_i^2 -bx_i -c)^2\n",
    "$$\n",
    "$F$の$a,b,c$についての偏微分が$0$になれば良いので\n",
    "$$\n",
    "\\frac{\\partial F}{\\partial a}=0\\\\\n",
    "\\frac{\\partial F}{\\partial b}=0\\\\\n",
    "\\frac{\\partial F}{\\partial c}=0\\\\\n",
    "\\quad\\\\\n",
    "\\Rightarrow \\begin{array}\n",
    " \\sum_i-2(y_i -ax_i^2 -bx_i -c)x_i^2 = 0\\\\\n",
    " \\sum_i-2(y_i -ax_i^2 -bx_i -c)x_i = 0\\\\\n",
    " \\sum_i-2(y_i -ax_i^2 -bx_i -c) = 0\n",
    "\\end{array}\\\\\n",
    "$$まとめると$$\n",
    "\\begin{pmatrix}\n",
    " \\sum_ix_i^4 & \\sum_ix_i^3 &\\sum_ix_i^2\\\\\n",
    " \\sum_ix_i^3 & \\sum_ix_i^2 &\\sum_ix_i\\\\\n",
    " \\sum_ix_i^2 & \\sum_ix_i &n\n",
    "\\end{pmatrix}\n",
    "\\begin{pmatrix}\n",
    "  a\\\\b\\\\c\\\\\n",
    "\\end{pmatrix}\n",
    "= \n",
    "\\begin{pmatrix}\n",
    "  \\sum_iy_ix_i^2\\\\\\sum_iy_ix_i\\\\\\sum_iy_i\n",
    "\\end{pmatrix}\\\\\n",
    "$$\n",
    "$X=\\begin{pmatrix}\n",
    "      x_1^2&x_1&1\\\\\n",
    "      x_2^2&x_2&1\\\\\n",
    "      \\vdots&\\vdots&\\vdots\\\\\n",
    "      x_n^2&x_n&1\n",
    "   \\end{pmatrix},\n",
    "Y=\\begin{pmatrix}y_1\\\\y_2\\\\\\vdots\\\\y_n\\end{pmatrix},A=\\begin{pmatrix}a\\\\b\\\\c\\end{pmatrix}\n",
    "$とすると上の式は次のようにかける\n",
    "$$X^TXA=X^TY$$\n",
    "よって$$XA=Y$$が解ければパラメータ$a,b,c$が得られ、関数の次数が増えても同じ方程式を解けばパラメータが得られる。\n",
    "$$\n",
    "\\quad\\\\\n",
    "y = a_nx^n + a_{n-1}x^{n-1} +\\dots +a_0\\\\\n",
    "\\quad\\\\\n",
    "\\begin{pmatrix}\n",
    " \\sum_ix_i^{2n} &\\sum_ix_i^{2n-1} &\\dots &\\sum_ix_i^{n}\\\\\n",
    " \\sum_ix_i^{2n-1} &\\sum_ix_i^{2n-2} &\\dots &\\sum_ix_i^{n-1}\\\\\n",
    " \\vdots &\\vdots &\\quad &\\vdots\\\\\n",
    " \\sum_ix_i^{n} &\\sum_ix_i^{n-1} &\\dots &1\n",
    "\\end{pmatrix}\n",
    "\\begin{pmatrix}\n",
    " a_n\\\\a_{n-1}\\\\\\vdots\\\\a_0\n",
    "\\end{pmatrix}\n",
    "=\n",
    "\\begin{pmatrix}\n",
    " \\sum_iy_ix_i^n\\\\ \\sum_iy_ix_i^{n-1}\\\\ \\vdots\\\\ \\sum_iy_i\n",
    "\\end{pmatrix}\n",
    "$$"
   ]
  },
  {
   "cell_type": "code",
   "execution_count": 2,
   "metadata": {},
   "outputs": [
    {
     "data": {
      "image/png": "[encoded data removed]",
      "text/plain": [
       "<Figure size 432x288 with 1 Axes>"
      ]
     },
     "metadata": {},
     "output_type": "display_data"
    },
    {
     "name": "stdout",
     "output_type": "stream",
     "text": [
      "parameter [[  0.41363636]\n",
      " [  7.75242424]\n",
      " [-11.11333333]]\n"
     ]
    }
   ],
   "source": [
    "#2次\n",
    "import numpy as np\n",
    "import matplotlib.pyplot as plt\n",
    "\n",
    "x = np.array([1,2,3,4,5,6,7,8,9,10])\n",
    "y = np.array([1.3,3.2,12,21,45,55,60,80,88,109])\n",
    "\n",
    "x4 = (x**4).sum()\n",
    "x3 = (x**3).sum()\n",
    "x2 = (x**2).sum()\n",
    "x1 = x.sum()\n",
    "yxx = np.dot(y,(x**2))\n",
    "yx = np.dot(y,x)\n",
    "y1 = y.sum()\n",
    "n = len(x)\n",
    "\n",
    "X = np.array([[x4,x3,x2],[x3,x2,x1],[x2,x1,n]])#行列を定義\n",
    "Y = np.array([[yxx],[yx],[y1]])\n",
    "in_X = np.linalg.inv(X)\n",
    "\n",
    "par_A =np.dot(in_X,Y)\n",
    "\n",
    "plt.scatter(x,y,color='k')\n",
    "plt.plot(x,par_A[0]*x**2 + par_A[1]*x +par_A[2],color=\"r\")\n",
    "plt.show()\n",
    "print(\"parameter\",par_A)"
   ]
  },
  {
   "cell_type": "code",
   "execution_count": null,
   "metadata": {},
   "outputs": [],
   "source": []
  },
  {
   "cell_type": "code",
   "execution_count": null,
   "metadata": {},
   "outputs": [],
   "source": []
  },
  {
   "cell_type": "code",
   "execution_count": null,
   "metadata": {},
   "outputs": [],
   "source": []
  },
  {
   "cell_type": "code",
   "execution_count": null,
   "metadata": {},
   "outputs": [],
   "source": [
    "\n",
    "\n"
   ]
  }
 ],
 "metadata": {
  "kernelspec": {
   "display_name": "Python 3",
   "language": "python",
   "name": "python3"
  },
  "language_info": {
   "codemirror_mode": {
    "name": "ipython",
    "version": 3
   },
   "file_extension": ".py",
   "mimetype": "text/x-python",
   "name": "python",
   "nbconvert_exporter": "python",
   "pygments_lexer": "ipython3",
   "version": "3.6.8"
  }
 },
 "nbformat": 4,
 "nbformat_minor": 2
}

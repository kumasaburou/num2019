{
 "cells": [
  {
   "cell_type": "code",
   "execution_count": 28,
   "metadata": {},
   "outputs": [],
   "source": [
    "import numpy as np\n",
    "import sympy as sp\n",
    "import itertools"
   ]
  },
  {
   "cell_type": "code",
   "execution_count": 29,
   "metadata": {},
   "outputs": [
    {
     "name": "stdout",
     "output_type": "stream",
     "text": [
      "[[1 3]\n",
      " [4 3]]\n",
      "[-1.60555127546399, 5.60555127546399]\n"
     ]
    }
   ],
   "source": [
    "#2×2\n",
    "mat2 = np.matrix([[1,3],[4,3]])\n",
    "E2 = np.eye(2)\n",
    "eigen = sp.Symbol('eigen')\n",
    "\n",
    "mat = mat2 - eigen*E2\n",
    "det_mat = mat[0,0]*mat[1,1] - mat[0,1]*mat[1,0]\n",
    "\n",
    "eigen_list = sp.solve(det_mat)\n",
    "\n",
    "print(mat2)\n",
    "print(eigen_list)"
   ]
  },
  {
   "cell_type": "code",
   "execution_count": 30,
   "metadata": {},
   "outputs": [
    {
     "name": "stdout",
     "output_type": "stream",
     "text": [
      "[[ 1  3  2]\n",
      " [ 3 -1  6]\n",
      " [ 5  2  1]]\n",
      "[7.19074630495270, -3.09537315247635 - 1.71311154457811*I, -3.09537315247635 + 1.71311154457811*I]\n"
     ]
    }
   ],
   "source": [
    "#3×3\n",
    "mat3 = np.matrix([[1,3,2],[3,-1,6],[5,2,1]])\n",
    "E3 = np.eye(3)\n",
    "\n",
    "mat = mat3 - eigen*E3\n",
    "\n",
    "b = [0,1,2]\n",
    "det_mat = 0\n",
    "for i,j,k in itertools.product(b,b,b):\n",
    "    det_mat = det_mat + sp.LeviCivita(i,j,k)*mat[0,i]*mat[1,j]*mat[2,k]\n",
    "\n",
    "eigen_list = sp.solve(det_mat)\n",
    "print(mat3)\n",
    "print(eigen_list)"
   ]
  },
  {
   "cell_type": "code",
   "execution_count": null,
   "metadata": {},
   "outputs": [],
   "source": []
  },
  {
   "cell_type": "code",
   "execution_count": null,
   "metadata": {},
   "outputs": [],
   "source": []
  },
  {
   "cell_type": "code",
   "execution_count": null,
   "metadata": {},
   "outputs": [],
   "source": []
  }
 ],
 "metadata": {
  "kernelspec": {
   "display_name": "Python 3",
   "language": "python",
   "name": "python3"
  },
  "language_info": {
   "codemirror_mode": {
    "name": "ipython",
    "version": 3
   },
   "file_extension": ".py",
   "mimetype": "text/x-python",
   "name": "python",
   "nbconvert_exporter": "python",
   "pygments_lexer": "ipython3",
   "version": "3.7.3"
  }
 },
 "nbformat": 4,
 "nbformat_minor": 4
}

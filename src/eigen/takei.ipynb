{
 "cells": [
  {
   "cell_type": "markdown",
   "metadata": {},
   "source": [
    "## べき乗法\n",
    "固有値の最大値に対する固有ベクトルを求める\n",
    "\n",
    "   $$\\boldsymbol{A}\\boldsymbol{x}=\\lambda\\boldsymbol{x}$$\n",
    "\n",
    "$$\n",
    "\\boldsymbol{x^{(1)}} = \\boldsymbol{A}\\boldsymbol{x^{(0)}}\\\\\n",
    "\\boldsymbol{x^{(2)}} = \\boldsymbol{A}\\boldsymbol{x^{(1)}}\\\\\n",
    "\\vdots\\\\\n",
    "\\boldsymbol{x^{(k+1)}} = \\boldsymbol{A}\\boldsymbol{x^{(k)}}\\\\ = \\boldsymbol{A^k}\\boldsymbol{x^{(0)}}\\\\\n",
    "$$\n",
    "\n",
    "$\\boldsymbol{x^{(k)}}$は絶対値が最大の固有値に対応する固有ベクトルに収束する。（発散しないようにベクトルの大きさは一定）\n",
    "\n",
    "任意のベクトル$\\boldsymbol{y^{(0)}}$\n",
    "$$\n",
    "\\boldsymbol{y^{(0)}} = c_1\\boldsymbol{x_1} + c_2\\boldsymbol{x_2} +\\dots +c_n\\boldsymbol{x_n}\\\\\n",
    "(|\\lambda_1| > |\\lambda_2| > |\\lambda_3| > \\dots \\geqq |\\lambda_n|)\\\\\n",
    "\\quad\\\\\n",
    "\\boldsymbol{x^{(1)}} = \\boldsymbol{A}\\boldsymbol{y^{(0)}} =\\lambda_1c_1\\boldsymbol{x_1}+\\lambda_2c_2\\boldsymbol{x_2}+\\dots+\\lambda_nc_n\\boldsymbol{x_n}\\\\\n",
    "\\boldsymbol{x^{(2)}} = \\boldsymbol{A}\\boldsymbol{x^{(1)}} =\\lambda_1^2c_1\\boldsymbol{x_1}+\\lambda_2^2c_2\\boldsymbol{x_2}+\\dots+\\lambda_n^2c_n\\boldsymbol{x_n}\\\\\n",
    "\\vdots\\\\\n",
    "\\boldsymbol{x^{(k)}}=\\boldsymbol{A^{k}}\\boldsymbol{y^{(0)}} =\\lambda_1^kc_1\\boldsymbol{x_1}+\\lambda_2^kc_2\\boldsymbol{x_2}+\\dots+\\lambda_n^kc_n\\boldsymbol{x_n}\n",
    "$$\n",
    "\n",
    "　$c_1\\neq0$　なら\n",
    "\n",
    "$$\n",
    "\\boldsymbol{y^{(k)}}=\\lambda_1^k c_1 \\{\\boldsymbol{x}_1 + (\\frac{\\lambda_2}{\\lambda_1})^k\\frac{c_2}{c_1}\\boldsymbol{x_2} + \\dots + (\\frac{\\lambda_n}{\\lambda_1})^k\\frac{c_n}{c_1}\\boldsymbol{x_n}\\}\n",
    "$$\n",
    "\n",
    "$\\frac{\\lambda_k}{\\lambda_1}<0$なので$k\\to\\infty$で大きさが最大の固有値に対する固有ベクトルが得られる。\n",
    "\n",
    "$$\n",
    "\\boldsymbol{y^{(k-1)}} = \\lambda_1^{k-1}c_1\\boldsymbol{x_1}\\to\\boldsymbol{x^{(k)}}=\\frac{\\boldsymbol{y^{(k-1)}}}{|\\boldsymbol{y^{(k-1)}}|} = \\lambda_1^{k-1}c_1\\boldsymbol{x_1}\\frac{1}{|\\boldsymbol{y^{(k-1)}}|}\\\\\n",
    "\\boldsymbol{y^{(k)}} = \\boldsymbol{A}\\boldsymbol{x^{(k-1)}} =  \\lambda_1^{k}c_1\\boldsymbol{x_1}\\frac{1}{|\\boldsymbol{y^{(k-1)}}|}\\\\\n",
    "\\quad\\\\\n",
    "\\quad\\\\\n",
    "\\frac{(\\boldsymbol{x^{(k)}},\\boldsymbol{y^{(k)}})}{(\\boldsymbol{x^{(k)}},\\boldsymbol{x^{(k)}})} = \\frac{((\\lambda_1^{k-1}c_1\\boldsymbol{x_1}\\frac{1}{|\\boldsymbol{y^{(k-1)}}|}),(\\lambda_1^{k}c_1\\boldsymbol{x_1}\\frac{1}{|\\boldsymbol{y^{(k-1)}}|}))}{((\\lambda_1^{k-1}c_1\\boldsymbol{x_1}\\frac{1}{|\\boldsymbol{y^{(k-1)}}|}),(\\lambda_1^{k-1}c_1\\boldsymbol{x_1}\\frac{1}{|\\boldsymbol{y^{(k-1)}}|}))} = \\lambda_1\n",
    "$$"
   ]
  },
  {
   "cell_type": "code",
   "execution_count": 3,
   "metadata": {},
   "outputs": [
    {
     "name": "stdout",
     "output_type": "stream",
     "text": [
      "u= [0.4472136  0.89442719]\n",
      "eig_val= 5.4\n",
      "rel_delta_u =  0.006855185541532816\n",
      "u= [0.41380294 0.91036648]\n",
      "eig_val= 5.36986301369863\n",
      "rel_delta_u =  0.0004750613146366154\n",
      "u= [0.41612395 0.9093079 ]\n",
      "eig_val= 5.372446555819478\n",
      "rel_delta_u =  3.2918018320446484e-05\n",
      "u= [0.41596314 0.90938148]\n",
      "eig_val= 5.372269861908916\n",
      "rel_delta_u =  2.28111945958817e-06\n",
      "u= [0.41597428 0.90937638]\n",
      "eig_val= 5.372282117449138\n",
      "rel_delta_u =  1.5807398546120781e-07\n"
     ]
    }
   ],
   "source": [
    "import numpy as np\n",
    "\n",
    "A = np.array([[1,2],[3,4]])\n",
    "x0 = np.array([1,0]); x1 = np.array([0,1])\n",
    "u = 1.0 * x0 + 2.0 * x1\n",
    "\n",
    "rel_eig = 0.000001\n",
    "rel_delta_u =10.0\n",
    "\n",
    "\n",
    "while rel_delta_u >= rel_eig :\n",
    "    uu = u/np.linalg.norm(u)\n",
    "    print(\"u=\",uu)\n",
    "    \n",
    "    u = np.dot(A,uu.T)\n",
    "    \n",
    "    eigen_value = np.dot(uu,u)/(np.dot(uu,uu.T))\n",
    "    print(\"eig_val=\",eigen_value)\n",
    "    \n",
    "    delta_u_vec = uu - u/np.linalg.norm(u)\n",
    "    abs_delta_u_value = np.linalg.norm(delta_u_vec)\n",
    "    rel_delta_u = abs_delta_u_value/np.abs(eigen_value)\n",
    "    print(\"rel_delta_u = \",rel_delta_u)"
   ]
  },
  {
   "cell_type": "markdown",
   "metadata": {},
   "source": [
    "## 逆べき乗法\n",
    "$$\n",
    "\\boldsymbol{A}\\boldsymbol{x}=\\lambda\\boldsymbol{x}\\\\\n",
    "\\to\\boldsymbol{A^{-1}}\\boldsymbol{A}\\boldsymbol{x} = \\lambda\\boldsymbol{A^{-1}}\\boldsymbol{x}\\\\\n",
    "\\to\\boldsymbol{A^{-1}}\\boldsymbol{x}=\\lambda^{-1}\\boldsymbol{x}\n",
    "$$\n",
    "\n",
    "$\\boldsymbol{A'} = \\boldsymbol{A^{-1}},\\lambda'=\\lambda^{-1}$\n",
    "として同じように計算することで大きさが最小の固有値に対する固有ベクトルが得られる。\n",
    "\n",
    "## 収束の加速\n",
    "$$\n",
    "\\boldsymbol{A}\\boldsymbol{x}=\\lambda\\boldsymbol{x},\\boldsymbol{B}=\\boldsymbol{A}-p\\boldsymbol{I}\\\\\n",
    "\\boldsymbol{A}\\boldsymbol{x}=(\\boldsymbol{B} + p\\boldsymbol{I})\\boldsymbol{x} = \\lambda\\boldsymbol{x}\\\\\n",
    "\\boldsymbol{B}\\boldsymbol{x}=\\lambda\\boldsymbol{x} - p\\boldsymbol{I}\\boldsymbol{x}=(\\lambda - p)\\boldsymbol{x}\\\\\n",
    "$$\n",
    "適当な$p$を選択することで固有値同士の比を大きくすることで収束を早くする。\n",
    "\n",
    "$$\n",
    "\\frac{|\\lambda_2-p|}{|\\lambda_1-p|}<\\frac{|\\lambda_2|}{|\\lambda_1|}\n",
    "$$"
   ]
  },
  {
   "cell_type": "code",
   "execution_count": 4,
   "metadata": {},
   "outputs": [
    {
     "name": "stdout",
     "output_type": "stream",
     "text": [
      "[[0 2]\n",
      " [3 3]]\n",
      "u= [0.83205029 0.5547002 ]\n",
      "eig_val= 4.230769230769232\n",
      "rel_delta_u_vec =  0.13793509882693253\n",
      "u= [0.38074981 0.9246781 ]\n",
      "eig_val= 5.325443786982248\n",
      "rel_delta_u_vec =  0.0077148656693323305\n",
      "u= [0.41841092 0.90825784]\n",
      "eig_val= 5.374921891272652\n",
      "rel_delta_u_vec =  0.0005335244903450345\n",
      "u= [0.41580463 0.90945396]\n",
      "eig_val= 5.372095370617371\n",
      "rel_delta_u_vec =  3.6973851156125067e-05\n",
      "u= [0.41598526 0.90937135]\n",
      "eig_val= 5.372294194930636\n",
      "rel_delta_u_vec =  2.5621532283558084e-06\n",
      "u= [0.41597275 0.90937708]\n",
      "eig_val= 5.372280431237049\n",
      "rel_delta_u_vec =  1.775488016114383e-07\n"
     ]
    }
   ],
   "source": [
    "import numpy as np\n",
    "\n",
    "A = np.array([[1,2],[3,4]])\n",
    "B = A - np.array([[1,0],[0,1]])\n",
    "print(B)\n",
    "x0 = np.array([1,0]); x1 = np.array([0,1])\n",
    "u = 1.0 * x0 + 2.0 * 1\n",
    "\n",
    "rel_eig = 0.000001\n",
    "\n",
    "\n",
    "rel_delta_u =100.0\n",
    "while rel_delta_u >= rel_eig :\n",
    "    uu = u/np.linalg.norm(u)\n",
    "    print(\"u=\",uu)\n",
    "    \n",
    "    u = np.dot(A,uu.T)\n",
    "    \n",
    "    eigen_value = np.dot(uu,u)/(np.dot(uu,uu.T))\n",
    "    print(\"eig_val=\",eigen_value)\n",
    "    \n",
    "    delta_u_vec = uu - u/np.linalg.norm(u)\n",
    "    abs_delta_u_value = np.linalg.norm(delta_u_vec)\n",
    "    rel_delta_u = abs_delta_u_value/np.abs(eigen_value)\n",
    "    print(\"rel_delta_u_vec = \",rel_delta_u)"
   ]
  },
  {
   "cell_type": "code",
   "execution_count": null,
   "metadata": {},
   "outputs": [],
   "source": []
  }
 ],
 "metadata": {
  "kernelspec": {
   "display_name": "Python 3",
   "language": "python",
   "name": "python3"
  },
  "language_info": {
   "codemirror_mode": {
    "name": "ipython",
    "version": 3
   },
   "file_extension": ".py",
   "mimetype": "text/x-python",
   "name": "python",
   "nbconvert_exporter": "python",
   "pygments_lexer": "ipython3",
   "version": "3.6.5"
  }
 },
 "nbformat": 4,
 "nbformat_minor": 2
}

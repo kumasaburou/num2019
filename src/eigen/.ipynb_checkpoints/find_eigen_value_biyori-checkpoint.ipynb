{
 "cells": [
  {
   "cell_type": "code",
   "execution_count": 3,
   "metadata": {},
   "outputs": [
    {
     "data": {
      "text/plain": [
       "([0.15166346918628804, 0.5540449679006895, 1.8413884882242126], True)"
      ]
     },
     "execution_count": 3,
     "metadata": {},
     "output_type": "execute_result"
    }
   ],
   "source": [
    "import numpy as np\n",
    "import math\n",
    "import scipy.optimize\n",
    "\n",
    "# 複素数に未対応\n",
    "# よくわからないけど固有値が全て実数なら探しきれるっぽい\n",
    "def det_solve_method(matrix):\n",
    "    row, column = np.shape(matrix)\n",
    "\n",
    "    if row != column:\n",
    "        raise ValueError(\"matrix shape mismuch\")\n",
    "        \n",
    "    fun = lambda lamda: np.linalg.det(matrix - lamda * np.eye(row))\n",
    "    value_det = np.linalg.det(matrix) # 得られた固有値が正しいか確かめる用\n",
    "    temp_det = value_det              # FindRoot初期値、逐次変化していく\n",
    "    cnt = 0                           # 探索回数の上限用のカウンタ\n",
    "    max_while = row**2                # 探索回数の上限\n",
    "    eigen_values = []                 # 固有値を入れるリスト\n",
    "\n",
    "    while (len(eigen_values) < row) and (cnt < max_while):\n",
    "        eigen_value = scipy.optimize.root(fun, temp_det)\n",
    "        cnt += 1\n",
    "        if eigen_value.success:\n",
    "            # 求根した値がすでに見つかったか確認\n",
    "            if not list(filter(lambda elmt: math.isclose(elmt, eigen_value.x, abs_tol=1e-8), eigen_values)):\n",
    "                eigen_values.append(*eigen_value.x)\n",
    "                temp_det /= eigen_value.x\n",
    "            else:\n",
    "                temp_det *= (1+np.random.rand()) #行列式を固有値で割るだけでは見つからないときは乱数で1〜2倍にする\n",
    "        else:\n",
    "            return eigen_value  \n",
    "    return (eigen_values, math.isclose(value_det, np.prod(eigen_values), abs_tol=1e-8))\n",
    "\n",
    "# det_solve_method([[1,2],[2,3]])\n",
    "# det_solve_method([[1,2,3],[2,6,5],[1,3,5]])\n",
    "x = np.random.rand(3,3)\n",
    "det_solve_method(x)"
   ]
  },
  {
   "cell_type": "code",
   "execution_count": 88,
   "metadata": {},
   "outputs": [
    {
     "data": {
      "text/plain": [
       "(array([-0.23606798,  4.23606798]), array([[-0.85065081, -0.52573111],\n",
       "        [ 0.52573111, -0.85065081]]))"
      ]
     },
     "execution_count": 88,
     "metadata": {},
     "output_type": "execute_result"
    }
   ],
   "source": [
    "np.linalg.eig([[1,2],[2,3]])"
   ]
  },
  {
   "cell_type": "code",
   "execution_count": 55,
   "metadata": {},
   "outputs": [
    {
     "data": {
      "text/plain": [
       "(array([10.18223045,  0.33007566,  1.48769389]),\n",
       " array([[-0.34042166, -0.93503496,  0.32000083],\n",
       "        [-0.78378155,  0.35353447, -0.76346609],\n",
       "        [-0.51942235, -0.02688875,  0.56099821]]))"
      ]
     },
     "execution_count": 55,
     "metadata": {},
     "output_type": "execute_result"
    }
   ],
   "source": [
    "np.linalg.eig([[1,2,3],[2,6,5],[1,3,5]])"
   ]
  },
  {
   "cell_type": "code",
   "execution_count": 169,
   "metadata": {},
   "outputs": [
    {
     "data": {
      "text/plain": [
       "(array([0.05976803+0.21328995j, 0.05976803-0.21328995j,\n",
       "        0.95923393+0.j        ]),\n",
       " array([[ 0.06244926+0.23613705j,  0.06244926-0.23613705j,\n",
       "         -0.22150707+0.j        ],\n",
       "        [-0.82582698+0.j        , -0.82582698-0.j        ,\n",
       "         -0.90803781+0.j        ],\n",
       "        [ 0.46564174-0.20378162j,  0.46564174+0.20378162j,\n",
       "         -0.35553051+0.j        ]]))"
      ]
     },
     "execution_count": 169,
     "metadata": {},
     "output_type": "execute_result"
    }
   ],
   "source": [
    "np.linalg.eig(x)"
   ]
  },
  {
   "cell_type": "code",
   "execution_count": null,
   "metadata": {},
   "outputs": [],
   "source": []
  }
 ],
 "metadata": {
  "kernelspec": {
   "display_name": "venv35",
   "language": "python",
   "name": "venv35"
  },
  "language_info": {
   "codemirror_mode": {
    "name": "ipython",
    "version": 3
   },
   "file_extension": ".py",
   "mimetype": "text/x-python",
   "name": "python",
   "nbconvert_exporter": "python",
   "pygments_lexer": "ipython3",
   "version": "3.5.2"
  }
 },
 "nbformat": 4,
 "nbformat_minor": 2
}

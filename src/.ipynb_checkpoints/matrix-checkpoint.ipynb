{
 "cells": [
  {
   "cell_type": "markdown",
   "metadata": {},
   "source": [
    "## 行列\n",
    "\n",
    "$$\n",
    "    A x = B\n",
    "$$"
   ]
  },
  {
   "cell_type": "markdown",
   "metadata": {},
   "source": [
    "### LU分解\n",
    "\n",
    "行列$A$を下三角行列$L$と上三角行列$U$に分解する．\n",
    "$$\n",
    "L =\n",
    "\\begin{pmatrix}\n",
    "    l_{00} & 0 & \\dots & & 0 \\\\\n",
    "    l_{10} & l_{11} & 0 & \\dots & 0 \\\\\n",
    "    \\vdots & \\\\\n",
    "    \\vdots & & & l_{n-1, n-1} & 0\\\\\n",
    "    l_{n0} & & & \\dots & l_{nn}\n",
    "\\end{pmatrix},\n",
    "\\quad\n",
    "U =\n",
    "\\begin{pmatrix}\n",
    "    u_{00} & u_{01} & & \\dots & u_{0n} \\\\\n",
    "    0 & u_{11} & & \\dots & u_{1n} \\\\\n",
    "    \\vdots \\\\\n",
    "    0 & \\dots & 0 & u_{n-1,n-1} & u_{n-1,n} \\\\\n",
    "    0 & \\dots & & 0 & u_{nn}\n",
    "\\end{pmatrix}\n",
    "$$\n",
    "\n",
    "変数の数勘定から$L,U$のうち$n$個の変数は決めることができる．\n",
    "ここでは$L$の対角成分を全て$1$と置くことにする．\n",
    "\n",
    "**$2 \\times 2$ case**\n",
    "\n",
    "このとき\n",
    "\n",
    "$$\n",
    "\\begin{align}\n",
    "    &A =\n",
    "    \\begin{pmatrix}\n",
    "        a_{00} & a_{01} \\\\\n",
    "        a_{10} & a_{11}\n",
    "    \\end{pmatrix}\n",
    "    =\n",
    "    \\begin{pmatrix}\n",
    "        1 & 0 \\\\\n",
    "        l_{10} & 1\n",
    "    \\end{pmatrix}\n",
    "    \\begin{pmatrix}\n",
    "        u_{00} & u_{01} \\\\\n",
    "        0 & u_{11}\n",
    "    \\end{pmatrix}\n",
    "    =\n",
    "    \\begin{pmatrix}\n",
    "        u_{00} & u_{01} \\\\\n",
    "        l_{10} u_{00} & l_{10} u_{01} + c_{11}\n",
    "    \\end{pmatrix}\n",
    "    \\\\ &\\to\n",
    "    \\begin{cases}\n",
    "        a_{00} = u_{00},\\ a_{01} = u_{01} \\\\\n",
    "        a_{10} = l_{10} u_{00},\\ a_{11} = l_{10} u_{01} + c_{11}\n",
    "    \\end{cases}\n",
    "\\end{align}\n",
    "$$\n",
    "\n",
    "これを解くことで$L$と$U$を求めることが出来る．"
   ]
  },
  {
   "cell_type": "code",
   "execution_count": 1,
   "metadata": {},
   "outputs": [
    {
     "data": {
      "text/plain": [
       "(Matrix([\n",
       " [a00, a01],\n",
       " [a10, a11]]), Matrix([\n",
       " [1, 0],\n",
       " [0, 1]]), Matrix([\n",
       " [1, 0],\n",
       " [0, 1]]))"
      ]
     },
     "execution_count": 1,
     "metadata": {},
     "output_type": "execute_result"
    }
   ],
   "source": [
    "from sympy import *\n",
    "\n",
    "n = 2\n",
    "a = symbols(\"a:{}:{}\".format(n, n))\n",
    "a = Array(a).reshape(n, n).tomatrix()\n",
    "l, u = eye(n), eye(n)\n",
    "a, l, u"
   ]
  },
  {
   "cell_type": "code",
   "execution_count": 2,
   "metadata": {},
   "outputs": [
    {
     "data": {
      "text/plain": [
       "True"
      ]
     },
     "execution_count": 2,
     "metadata": {},
     "output_type": "execute_result"
    }
   ],
   "source": [
    "u[0, 0] = a[0, 0]\n",
    "u[0, 1] = a[0, 1]\n",
    "l[1, 0] = a[1, 0] / u[0, 0]\n",
    "u[1,1] = a[1,1]-l[1,0]*u[0,1]\n",
    "l*u == a"
   ]
  },
  {
   "cell_type": "markdown",
   "metadata": {},
   "source": [
    "**$3 \\times 3$ case**\n",
    "\n",
    "$n>2$の場合は$A$を$n-1 \\times n-1$の小行列とそれ以外の部分に分割していく．\n",
    "$3 \\times 3$の場合は\n",
    "$$\n",
    "A = \\begin{pmatrix}\n",
    "    a_{00} & a_{01} & a_{02} \\\\\n",
    "    a_{01} & a_{11} & a_{12} \\\\\n",
    "    a_{20} & a_{21} & a_{22}\n",
    "\\end{pmatrix}\n",
    "= \\begin{pmatrix}\n",
    "    1 & \\\\\n",
    "    l_{10} & 1 \\\\\n",
    "    l_{20} & l_{21} & 1\n",
    "\\end{pmatrix}\n",
    "\\begin{pmatrix}\n",
    "    u_{00} & u_{01} & u_{02} \\\\\n",
    "           & u_{11} & u_{12} \\\\\n",
    "           &        & u_{22}\n",
    "\\end{pmatrix}\n",
    "= \\left(\n",
    "\\begin{array}{c|cc}\n",
    "    u_{00} & u_{01} & u_{02} \\\\\n",
    "    \\hline\n",
    "    l_{10} u_{00} & l_{10} u_{01} + u_{11} & l_{10} u_{02} + u_{12} \\\\\n",
    "    l_{20} u_{00} & l_{20} u_{01} + u_{21} u_{11} & l_{20} u_{02} + l_{21} u_{12} + u_{22}\n",
    "\\end{array}\n",
    "\\right)\n",
    "$$\n",
    "右下の部分を$A_{2}$とする．これ以外のところを求めると\n",
    "$$\n",
    "\\begin{cases}\n",
    "    u_{00} = a_{00}, \\ u_{01} = a_{01}, \\ u_{02} = a_{02} \\\\\n",
    "    l_{10} u_{00} = a_{10}, \\ l_{20} u_{00} = a_{20}\n",
    "\\end{cases}\n",
    "$$\n",
    "これを$A_{2}$に代入して$2 \\times 2$の場合をやれば$L, U$が求まる．具体的には\n",
    "$L, U$の小行列部分を$L_{2}, U_{2}$とすると，\n",
    "\n",
    "$$\n",
    "\\begin{align}\n",
    "L = \\begin{pmatrix}\n",
    "    1 & \\begin{matrix} 0 & 0 \\end{matrix} \\\\\n",
    "    \\begin{matrix} l_{10} \\\\ l_{20} \\end{matrix} & L_2\n",
    "\\end{pmatrix},\n",
    "\\qquad\n",
    "U = \\begin{pmatrix}\n",
    "    u_{00} & \\begin{matrix} u_{01} & u_{11} \\end{matrix} \\\\\n",
    "    \\begin{matrix} 0 \\\\ 0 \\end{matrix} & U_{2}\n",
    "\\end{pmatrix}\n",
    "\\\\\n",
    "L_{2} = \\begin{pmatrix}\n",
    "    1 & 0 \\\\\n",
    "    l_{21} & 1\n",
    "\\end{pmatrix},\n",
    "\\quad\n",
    "U_{2} = \\begin{pmatrix}\n",
    "    u_{11} & u_{12} \\\\\n",
    "    0 & u_{22}\n",
    "\\end{pmatrix}\n",
    "\\end{align}\n",
    "$$\n",
    "\n",
    "これを用いると\n",
    "$$\n",
    "LU = \\begin{pmatrix}\n",
    "    u_{00} & \\begin{matrix} u_{01} & u_{11} \\end{matrix} \\\\\n",
    "    \\begin{matrix} l_{10} u_{00} \\\\ l_{20} u_{00} \\end{matrix} & L_{2} U_{2}\n",
    "\\end{pmatrix}\n",
    "+ \\begin{pmatrix}\n",
    "    0 & 0 & 0 \\\\\n",
    "    0 & l_{10} u_{01} & l_{10} u_{02} \\\\\n",
    "    0 & l_{20} u_{01} & l_{20} u_{02}\n",
    "\\end{pmatrix}\n",
    "$$\n",
    "と書ける．したがって\n",
    "$$\n",
    "    L_{2} U_{2} = A_{2} - (l_{i0} u_{0j})\n",
    "    = \\begin{pmatrix}\n",
    "        u_{11} & u_{12} \\\\\n",
    "        l_{21} u_{11} & l_{21} u_{12} + u_{22}\n",
    "    \\end{pmatrix}\n",
    "$$\n",
    "を解けば$L,U$が求まる．"
   ]
  },
  {
   "cell_type": "code",
   "execution_count": 3,
   "metadata": {},
   "outputs": [
    {
     "data": {
      "text/plain": [
       "(Matrix([\n",
       " [a00, a01, a02],\n",
       " [a10, a11, a12],\n",
       " [a20, a21, a22]]), Matrix([\n",
       " [1, 0, 0],\n",
       " [0, 1, 0],\n",
       " [0, 0, 1]]), Matrix([\n",
       " [1, 0, 0],\n",
       " [0, 1, 0],\n",
       " [0, 0, 1]]))"
      ]
     },
     "execution_count": 3,
     "metadata": {},
     "output_type": "execute_result"
    }
   ],
   "source": [
    "n = 3\n",
    "a = symbols('a:{}:{}'.format(n,n))\n",
    "a = Matrix(a).reshape(n,n)\n",
    "l, u = eye(n), eye(n)\n",
    "a, l, u"
   ]
  },
  {
   "cell_type": "code",
   "execution_count": 4,
   "metadata": {},
   "outputs": [],
   "source": [
    "u[0, 0] = a[0, 0]\n",
    "u[0, 1] = a[0, 1]\n",
    "u[0, 2] = a[0, 2]\n",
    "l[1, 0] = a[1, 0] / u[0, 0]\n",
    "l[2, 0] = a[2, 0] / u[0, 0]"
   ]
  },
  {
   "cell_type": "code",
   "execution_count": 5,
   "metadata": {},
   "outputs": [
    {
     "data": {
      "text/plain": [
       "Matrix([\n",
       "[      1, 0, 0],\n",
       "[a10/a00, 1, 0],\n",
       "[a20/a00, 0, 1]])"
      ]
     },
     "execution_count": 5,
     "metadata": {},
     "output_type": "execute_result"
    }
   ],
   "source": [
    "l"
   ]
  },
  {
   "cell_type": "code",
   "execution_count": 6,
   "metadata": {},
   "outputs": [],
   "source": [
    "Li = Matrix([l[1,0], l[2,0]])\n",
    "Ui = Matrix([u[0,1], u[0,2]])\n",
    "\n",
    "# subLU = zeros(2,2)\n",
    "sub = a[1:,1:] - (Li*Ui.T)\n",
    "u[1,1] = sub[0,0]\n",
    "u[1,2] = sub[0,1]\n",
    "l[2,1] = (sub[1,0])/u[1,1]\n",
    "u[2,2] = sub[1,1] - l[2,1]*u[1,2]"
   ]
  },
  {
   "cell_type": "code",
   "execution_count": 7,
   "metadata": {},
   "outputs": [
    {
     "data": {
      "text/plain": [
       "Matrix([\n",
       "[a00, a01, a02],\n",
       "[a10, a11, a12],\n",
       "[a20, a21, a22]])"
      ]
     },
     "execution_count": 7,
     "metadata": {},
     "output_type": "execute_result"
    }
   ],
   "source": [
    "l*u"
   ]
  },
  {
   "cell_type": "markdown",
   "metadata": {},
   "source": [
    "**$n \\times n$**\n",
    "\n",
    "$$\n",
    "L = \\begin{pmatrix}\n",
    "    1 & \\begin{matrix} 0 & \\cdots & 0 \\end{matrix} \\\\\n",
    "    \\begin{matrix} l_{10} \\\\ \\vdots \\\\ l_{n0} \\end{matrix} & \\hat{L}\n",
    "\\end{pmatrix},\n",
    "\\qquad\n",
    "U = \\begin{pmatrix}\n",
    "    u_{00} & \\begin{matrix} u_{01} & \\cdots & u_{0n} \\end{matrix} \\\\\n",
    "    \\begin{matrix} 0 \\\\ \\vdots \\\\ 0 \\end{matrix} & \\hat{U}\n",
    "\\end{pmatrix}\n",
    "$$\n",
    "\n",
    "$$\n",
    "LU = \\begin{pmatrix}\n",
    "    u_{00} & \\begin{matrix} u_{01} & \\cdots & u_{0n} \\end{matrix} \\\\\n",
    "    \\begin{matrix} l_{10} u_{00} \\\\ \\vdots \\\\ l_{n0} u_{00} \\end{matrix} & \\hat{L} \\hat{U}\n",
    "\\end{pmatrix}\n",
    "+ \\begin{pmatrix}\n",
    "    0 & \\begin{matrix} 0 & \\cdots & 0 \\end{matrix} \\\\\n",
    "    \\begin{matrix} 0 \\\\ \\vdots \\\\ 0 \\end{matrix} & l_{i0} u_{0j}\n",
    "\\end{pmatrix}\n",
    "$$\n",
    "これから\n",
    "$$\n",
    "    \\hat{A} = \\hat{L} \\hat{U} = A_{ij} - l_{i0} u_{0j}\n",
    "$$\n",
    "としてどんどん小さな行列を作り，$LU$分解していく．"
   ]
  },
  {
   "cell_type": "code",
   "execution_count": 10,
   "metadata": {},
   "outputs": [],
   "source": [
    "import numpy as np\n",
    "\n",
    "def lu_decomposition(arr: np.array) -> [np.array, np.array]:\n",
    "    row, column = arr.shape\n",
    "    l, u = np.eye(row), np.eye(column)\n",
    "    #     print(arr)\n",
    "    #     print(u)\n",
    "\n",
    "    sub_arr = arr\n",
    "    index = 0\n",
    "    while True:\n",
    "\n",
    "        for i, j in zip(range(row - index), range(column - index)):\n",
    "            u[index, j + index] = sub_arr[0, j]\n",
    "#             print(u)\n",
    "            l[i + index, index] = sub_arr[i, 0] / u[index, index]\n",
    "#             print(l)\n",
    "\n",
    "        if row - index == 2:\n",
    "            u[-1, -1] = sub_arr[-1, -1] - l[-1, index] * u[index, -1]\n",
    "            break\n",
    "\n",
    "        sub_arr = sub_arr[1:, 1:] - np.outer(\n",
    "            [l[i, index] for i in range(index + 1, row)],\n",
    "            [u[index, j] for j in range(index + 1, column)],\n",
    "        )\n",
    "\n",
    "#         print(u)\n",
    "#         print(sub_arr)\n",
    "\n",
    "        index += 1\n",
    "\n",
    "    return l, u"
   ]
  },
  {
   "cell_type": "code",
   "execution_count": 11,
   "metadata": {},
   "outputs": [
    {
     "data": {
      "text/plain": [
       "(array([[1., 0., 0.],\n",
       "        [3., 1., 0.],\n",
       "        [2., 0., 1.]]), array([[ 1.,  1.,  3.],\n",
       "        [ 0.,  3., -5.],\n",
       "        [ 0.,  0., -4.]]), array([[1., 1., 3.],\n",
       "        [3., 6., 4.],\n",
       "        [2., 2., 2.]]))"
      ]
     },
     "execution_count": 11,
     "metadata": {},
     "output_type": "execute_result"
    }
   ],
   "source": [
    "n = 4\n",
    "mat = np.arange(1, n * n + 1).reshape(n, n)  # Singular matrix\n",
    "mat = [[1, 1, 3], [3, 6, 4], [2, 2, 2]]\n",
    "l, u = lu_decomposition(np.array(mat))\n",
    "L, U, P = Matrix(mat).LUdecomposition()\n",
    "# l, u, l*u, Matrix(mat).LUdecomposition(),\n",
    "np.dot(l, u) == np.array(mat)\n",
    "# L, U, P\n",
    "l,u, np.dot(l,u)"
   ]
  },
  {
   "cell_type": "code",
   "execution_count": 12,
   "metadata": {},
   "outputs": [
    {
     "data": {
      "text/plain": [
       "(array([[1.        , 0.        , 0.        ],\n",
       "        [0.66666667, 1.        , 0.        ],\n",
       "        [0.33333333, 0.5       , 1.        ]]),\n",
       " array([[ 3.        ,  6.        ,  4.        ],\n",
       "        [ 0.        , -2.        , -0.66666667],\n",
       "        [ 0.        ,  0.        ,  2.        ]]),\n",
       " array([[3., 6., 4.],\n",
       "        [2., 2., 2.],\n",
       "        [1., 1., 3.]]))"
      ]
     },
     "execution_count": 12,
     "metadata": {},
     "output_type": "execute_result"
    }
   ],
   "source": [
    "import scipy.linalg\n",
    "p,l,u = scipy.linalg.lu(mat)\n",
    "l, u, np.dot(l,u)"
   ]
  },
  {
   "cell_type": "code",
   "execution_count": 13,
   "metadata": {},
   "outputs": [
    {
     "data": {
      "text/plain": [
       "array([[1., 2., 3.],\n",
       "       [2., 3., 4.],\n",
       "       [3., 4., 5.]])"
      ]
     },
     "execution_count": 13,
     "metadata": {},
     "output_type": "execute_result"
    }
   ],
   "source": [
    "l,u = lu_decomposition(np.array([[1, 2, 3], [2, 3, 4], [3, 4, 5]]))\n",
    "np.dot(l,u)"
   ]
  },
  {
   "cell_type": "code",
   "execution_count": 11,
   "metadata": {},
   "outputs": [
    {
     "data": {
      "text/plain": [
       "True"
      ]
     },
     "execution_count": 11,
     "metadata": {},
     "output_type": "execute_result"
    }
   ],
   "source": [
    "from sympy import *\n",
    "import sympy\n",
    "\n",
    "a,b = symbols('a,b')\n",
    "fun = a**2+b\n",
    "fun = a*(a+b)\n",
    "type(fun)\n",
    "isinstance(a, (Mul, Add, Symbol))"
   ]
  },
  {
   "cell_type": "code",
   "execution_count": null,
   "metadata": {},
   "outputs": [],
   "source": []
  }
 ],
 "metadata": {
  "kernelspec": {
   "display_name": "Python 3",
   "language": "python",
   "name": "python3"
  },
  "language_info": {
   "codemirror_mode": {
    "name": "ipython",
    "version": 3
   },
   "file_extension": ".py",
   "mimetype": "text/x-python",
   "name": "python",
   "nbconvert_exporter": "python",
   "pygments_lexer": "ipython3",
   "version": "3.5.2"
  }
 },
 "nbformat": 4,
 "nbformat_minor": 4
}
